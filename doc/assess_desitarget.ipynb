{
 "cells": [
  {
   "cell_type": "code",
   "execution_count": 2,
   "metadata": {},
   "outputs": [],
   "source": [
    "#\n",
    "import numpy as np\n",
    "import os, sys\n",
    "\n",
    "sys.path.insert(0, '/global/homes/q/qmxp55/DESI/bgstargets/py')\n",
    "\n",
    "from io_ import get_sweep_whole, getBGSbits\n",
    "from io_ import get_random, get_isdesi, get_dict, bgsmask, get_reg\n",
    "from cuts import getGeoCuts, get_bgs, flux_to_mag\n",
    "from QA import getStats, flow\n",
    "\n",
    "sys.path.insert(0, '/global/homes/q/qmxp55/DESI/bgs_main/')\n",
    "from desitarget.cuts import select_targets\n",
    "from desitarget import io, cuts\n",
    "from desitarget.sv1 import sv1_cuts\n",
    "from desitarget.sv3 import sv3_cuts\n",
    "\n",
    "import healpy as hp\n",
    "import astropy.io.fits as fits\n",
    "from astropy.coordinates import SkyCoord\n",
    "import astropy.units as units\n",
    "import fitsio\n",
    "import matplotlib.pyplot as plt\n",
    "from astropy.table import Table\n",
    "\n",
    "%load_ext autoreload\n",
    "%autoreload 2\n",
    "\n",
    "import warnings\n",
    "warnings.filterwarnings('ignore')"
   ]
  },
  {
   "cell_type": "markdown",
   "metadata": {},
   "source": [
    "# Steeps to update DESITARGET\n",
    "\n",
    "1) `git fetch upstream` \\\n",
    "2) create new branch based on `upstream/master` branch \\\n",
    "3) commit changes \\\n",
    "4) push with `git push origin <new_branch>`"
   ]
  },
  {
   "cell_type": "code",
   "execution_count": 15,
   "metadata": {},
   "outputs": [],
   "source": [
    "\n",
    "def runtest(rff=False, targtype=\"bright\", primary1=False, file=None, survey='main', south=True, option=1):\n",
    "    \n",
    "    if file is None: raise ValueError('Select a file from SWEEPS, TRACTOR or DESITARGET-like')\n",
    "    targets = Table.read(file)\n",
    "    \n",
    "    if south:\n",
    "        targets['PHOTSYS'] = 'S'\n",
    "    else:\n",
    "        targets['PHOTSYS'] = 'N'\n",
    "    \n",
    "\n",
    "    if option == 1:\n",
    "    \n",
    "        photsys_north, photsys_south, obs_rflux, gflux, rflux, zflux,                     \\\n",
    "            w1flux, w2flux, gfiberflux, rfiberflux, zfiberflux,                           \\\n",
    "            gfibertotflux, rfibertotflux, zfibertotflux,                                  \\\n",
    "            objtype, release, ra, dec, gfluxivar, rfluxivar, zfluxivar, w1fluxivar,       \\\n",
    "            gnobs, rnobs, znobs, gfracflux, rfracflux, zfracflux,                         \\\n",
    "            gfracmasked, rfracmasked, zfracmasked,                                        \\\n",
    "            gfracin, rfracin, zfracin, gallmask, rallmask, zallmask,                      \\\n",
    "            gsnr, rsnr, zsnr, w1snr, w2snr, dchisq, deltaChi2, maskbits, refcat =         \\\n",
    "             cuts._prepare_optical_wise(objects=targets, mask=True)\n",
    "\n",
    "        gaia, pmra, pmdec, parallax, parallaxovererror, parallaxerr, gaiagmag, \\\n",
    "        gaiabmag, gaiarmag, gaiaaen, gaiadupsource, Grr, gaiaparamssolved, \\\n",
    "        gaiabprpfactor, gaiasigma5dmax, galb = \\\n",
    "        cuts._prepare_gaia(objects=targets, colnames=None)\n",
    "    \n",
    "    elif option == 2:\n",
    "    \n",
    "        flux = cuts.unextinct_fluxes(targets)\n",
    "        gflux = flux['GFLUX']\n",
    "        rflux = flux['RFLUX']\n",
    "        zflux = flux['ZFLUX']\n",
    "        w1flux = flux['W1FLUX']\n",
    "        w2flux = flux['W2FLUX']\n",
    "        zfiberflux = flux['ZFIBERFLUX']\n",
    "        rfiberflux = flux['RFIBERFLUX']\n",
    "        \n",
    "        rfibertotflux = targets['FIBERTOTFLUX_R']\n",
    "        objtype = targets['TYPE']\n",
    "\n",
    "        gfluxivar = targets['FLUX_IVAR_G']\n",
    "        rfluxivar = targets['FLUX_IVAR_R']\n",
    "        zfluxivar = targets['FLUX_IVAR_Z']\n",
    "\n",
    "        gsnr = targets['FLUX_G'] * np.sqrt(targets['FLUX_IVAR_G'])\n",
    "        rsnr = targets['FLUX_R'] * np.sqrt(targets['FLUX_IVAR_R'])\n",
    "        zsnr = targets['FLUX_Z'] * np.sqrt(targets['FLUX_IVAR_Z'])\n",
    "        w1snr = targets['FLUX_W1'] * np.sqrt(targets['FLUX_IVAR_W1'])\n",
    "        w2snr = targets['FLUX_W2'] * np.sqrt(targets['FLUX_IVAR_W2'])\n",
    "\n",
    "        dchisq = targets['DCHISQ']\n",
    "        deltaChi2 = dchisq[..., 0] - dchisq[..., 1]\n",
    "\n",
    "        gnobs, rnobs, znobs = targets['NOBS_G'], targets['NOBS_R'], targets['NOBS_Z']\n",
    "        gallmask = targets['ALLMASK_G']\n",
    "        rallmask = targets['ALLMASK_R']\n",
    "        zallmask = targets['ALLMASK_Z']\n",
    "        gfracflux = targets['FRACFLUX_G']\n",
    "        rfracflux = targets['FRACFLUX_R']\n",
    "        zfracflux = targets['FRACFLUX_Z']\n",
    "        gfracmasked = targets['FRACMASKED_G']\n",
    "        rfracmasked = targets['FRACMASKED_R']\n",
    "        zfracmasked = targets['FRACMASKED_Z']\n",
    "        gfracin = targets['FRACIN_G']\n",
    "        rfracin = targets['FRACIN_R']\n",
    "        zfracin = targets['FRACIN_Z']\n",
    "        maskbits = targets['MASKBITS']\n",
    "        refcat = targets['REF_CAT']\n",
    "\n",
    "        gaiagmag = targets['GAIA_PHOT_G_MEAN_MAG']\n",
    "        Grr = gaiagmag - 22.5 + 2.5*np.log10(targets['FLUX_R'])\n",
    "    \n",
    "#     gaiadupsource = targets['GAIA_DUPLICATED_SOURCE']\n",
    "#     if issubclass(gaiadupsource.dtype.type, np.integer):\n",
    "#         if len(set(np.atleast_1d(gaiadupsource)) - set([0, 1])) == 0:\n",
    "#             gaiadupsource = targets['GAIA_DUPLICATED_SOURCE'].astype(bool)\n",
    "\n",
    "    if 'BRICK_PRIMARY' in targets.colnames:\n",
    "        primary = targets['BRICK_PRIMARY']\n",
    "    else:\n",
    "        primary = np.ones_like(gflux, dtype='?')\n",
    "    \n",
    "    if rff: ff = rfiberflux\n",
    "    else: ff = None\n",
    "    \n",
    "    if primary1: prim = primary\n",
    "    else: prim = None\n",
    "    \n",
    "    if survey == 'main':\n",
    "        print('-------- getting BGS MAIN targets --------')\n",
    "        bgs = cuts.isBGS(\n",
    "            rfiberflux=ff, gflux=gflux, rflux=rflux,\n",
    "            zflux=zflux, w1flux=w1flux, w2flux=w2flux,\n",
    "            gnobs=gnobs, rnobs=rnobs, znobs=znobs,\n",
    "            gfracmasked=gfracmasked, rfracmasked=rfracmasked,\n",
    "            zfracmasked=zfracmasked, gfracflux=gfracflux,\n",
    "            rfracflux=rfracflux, zfracflux=zfracflux,\n",
    "            gfracin=gfracin, rfracin=rfracin, zfracin=zfracin,\n",
    "            gfluxivar=gfluxivar, rfluxivar=rfluxivar,\n",
    "            zfluxivar=zfluxivar, maskbits=maskbits,\n",
    "            Grr=Grr, refcat=refcat, w1snr=w1snr, gaiagmag=gaiagmag,\n",
    "            primary=prim, targtype=targtype)\n",
    "    elif survey == 'sv':\n",
    "        print('-------- getting BGS SV targets --------')\n",
    "        bgs = sv1_cuts.isBGS(\n",
    "            gflux=gflux, rflux=rflux, zflux=zflux, w1flux=w1flux, w2flux=w2flux,\n",
    "            rfiberflux=ff, gnobs=gnobs, rnobs=rnobs, znobs=znobs,\n",
    "            gfracmasked=gfracmasked, rfracmasked=rfracmasked, zfracmasked=zfracmasked,\n",
    "            gfracflux=gfracflux, rfracflux=rfracflux, zfracflux=zfracflux,\n",
    "            gfracin=gfracin, rfracin=rfracin, zfracin=zfracin,\n",
    "            gfluxivar=gfluxivar, rfluxivar=rfluxivar, zfluxivar=zfluxivar,\n",
    "            maskbits=maskbits, Grr=Grr, refcat=refcat, w1snr=w1snr, gaiagmag=gaiagmag,\n",
    "            objtype=objtype, primary=prim, targtype=targtype)\n",
    "    elif survey == 'sv3':\n",
    "        print('-------- getting BGS SV3 targets --------')\n",
    "        bgs = sv3_cuts.isBGS(\n",
    "            gflux=gflux, rflux=rflux, zflux=zflux, w1flux=w1flux, w2flux=w2flux, rfibertotflux=rfibertotflux,\n",
    "            rfiberflux=ff, gnobs=gnobs, rnobs=rnobs, znobs=znobs,\n",
    "            gfluxivar=gfluxivar, rfluxivar=rfluxivar, zfluxivar=zfluxivar,\n",
    "            maskbits=maskbits, Grr=Grr, refcat=refcat, w1snr=w1snr, w2snr=w2snr, gaiagmag=gaiagmag,\n",
    "            objtype=objtype, primary=prim, south=south, targtype=targtype)\n",
    "        \n",
    "    else: raise ValueError('%s is not a valid survey programme.' %(survey))\n",
    "                    \n",
    "    return bgs"
   ]
  },
  {
   "cell_type": "markdown",
   "metadata": {},
   "source": [
    "## BGS assess comparison DESITARGET with MYCODE for DR8"
   ]
  },
  {
   "cell_type": "markdown",
   "metadata": {},
   "source": [
    "### MAIN"
   ]
  },
  {
   "cell_type": "code",
   "execution_count": 3,
   "metadata": {
    "collapsed": true,
    "jupyter": {
     "outputs_hidden": true
    }
   },
   "outputs": [
    {
     "name": "stdout",
     "output_type": "stream",
     "text": [
      "---- BGSMASK key: ---- \n",
      "\t BS, 0, 1\n",
      "\t MS, 1, 2\n",
      "\t GC, 2, 4\n",
      "\t LG, 3, 8\n",
      "\t allmask, 4, 16\n",
      "\t nobs, 5, 32\n",
      "\t SG, 6, 64\n",
      "\t SGSV, 7, 128\n",
      "\t FMC, 8, 256\n",
      "\t FMC2, 9, 512\n",
      "\t CC, 10, 1024\n",
      "\t QC_FM, 11, 2048\n",
      "\t QC_FI, 12, 4096\n",
      "\t QC_FF, 13, 8192\n",
      "\t QC_FM2, 14, 16384\n",
      "\t QC_FI2, 15, 32768\n",
      "\t QC_FF2, 16, 65536\n",
      "\t QC_IVAR, 17, 131072\n",
      "\t bgs_any, 20, 1048576\n",
      "\t bgs_bright, 21, 2097152\n",
      "\t bgs_faint, 22, 4194304\n",
      "\t bgs_sv_any, 30, 1073741824\n",
      "\t bgs_sv_bright, 31, 2147483648\n",
      "\t bgs_sv_faint, 32, 4294967296\n",
      "\t bgs_sv_faint_ext, 33, 8589934592\n",
      "\t bgs_sv_fibmag, 34, 17179869184\n",
      "\t bgs_sv_lowq, 35, 34359738368\n",
      "\t bgs_sv_any_wqc, 36, 68719476736\n",
      "\t bgs_sv_lowq_wqc, 37, 137438953472\n",
      "---- Sanity Check ---- \n",
      "\t BS, 3877196, 3877196\n",
      "\t MS, 3833058, 3833058\n",
      "\t GC, 3949441, 3949441\n",
      "\t LG, 3944628, 3944628\n",
      "\t allmask, 3938037, 3938037\n",
      "\t nobs, 3948722, 3948722\n",
      "\t SG, 3766688, 3766688\n",
      "\t SGSV, 3767362, 3767362\n",
      "\t FMC, 3934112, 3934112\n",
      "\t FMC2, 3934643, 3934643\n",
      "\t CC, 3776143, 3776143\n",
      "\t QC_FM, 3916707, 3916707\n",
      "\t QC_FI, 3947746, 3947746\n",
      "\t QC_FF, 3927141, 3927141\n",
      "\t QC_FM2, 3939215, 3939215\n",
      "\t QC_FI2, 3948800, 3948800\n",
      "\t QC_FF2, 3944528, 3944528\n",
      "\t QC_IVAR, 3948524, 3948524\n",
      "\t bgs_any, 65114, 65114\n",
      "\t bgs_bright, 38404, 38404\n",
      "\t bgs_faint, 26710, 26710\n",
      "\t bgs_sv_any, 112697, 112697\n",
      "\t bgs_sv_bright, 39314, 39314\n",
      "\t bgs_sv_faint, 34495, 34495\n",
      "\t bgs_sv_faint_ext, 29968, 29968\n",
      "\t bgs_sv_fibmag, 8603, 8603\n",
      "\t bgs_sv_lowq, 317, 317\n",
      "\t bgs_sv_any_wqc, 112697, 112697\n",
      "\t bgs_sv_lowq_wqc, 1438, 1438\n",
      "Total run time: 42.545585 sec\n"
     ]
    }
   ],
   "source": [
    "#run my bgs script on one sweep brick\n",
    "mastercat = '/global/project/projectdirs/cosmo/data/legacysurvey/dr8/south/sweep/8.0/sweep-190p000-200p005.fits'\n",
    "cat = getBGSbits(mycatpath=mastercat, outdir=None, mycat=True, getmycat=True)"
   ]
  },
  {
   "cell_type": "code",
   "execution_count": 4,
   "metadata": {},
   "outputs": [
    {
     "name": "stdout",
     "output_type": "stream",
     "text": [
      "-------- getting BGS MAIN targets --------\n",
      "-------- getting BGS MAIN targets --------\n"
     ]
    }
   ],
   "source": [
    "#run desitarget on the same sweep brick\n",
    "#see: /global/homes/q/qmxp55/DESI/bgs_main/select_targets_bgs.py\n",
    "#cat1 = fitsio.read('/global/cscratch1/sd/qmxp55/desitarget_output/test_lslga_1.fits/targets/main/resolve/targets-drX-hp-X.fits')\n",
    "cat1b = runtest(rff=True, targtype='bright', primary1=False, file=mastercat)\n",
    "cat1f = runtest(rff=True, targtype='faint', primary1=False, file=mastercat)"
   ]
  },
  {
   "cell_type": "code",
   "execution_count": 7,
   "metadata": {},
   "outputs": [],
   "source": [
    "#bgsf1 = (cat1f['BGS_TARGET'] & 2**(0)) != 0\n",
    "#bgsb1 = (cat1b['BGS_TARGET'] & 2**(1)) != 0\n",
    "\n",
    "bgsb = ((cat['BGSBITS'] & 2**(21)) != 0)\n",
    "bgsf = ((cat['BGSBITS'] & 2**(22)) != 0)\n",
    "bgs = ((cat['BGSBITS'] & 2**(20)) != 0)"
   ]
  },
  {
   "cell_type": "code",
   "execution_count": 8,
   "metadata": {},
   "outputs": [
    {
     "name": "stdout",
     "output_type": "stream",
     "text": [
      "Targ. Dens. of BGS faint: 570.064 (DESITARGET) \t 568.298 (MYCODE)\n",
      "Targ. Dens. of BGS bright: 819.234 (DESITARGET) \t 817.106 (MYCODE)\n"
     ]
    }
   ],
   "source": [
    "print('Targ. Dens. of BGS faint: %.3f (DESITARGET) \\t %.3f (MYCODE)' %(np.sum(cat1f)/47, np.sum(bgsf)/47))\n",
    "print('Targ. Dens. of BGS bright: %.3f (DESITARGET) \\t %.3f (MYCODE)' %(np.sum(cat1b)/47, np.sum(bgsb)/47))"
   ]
  },
  {
   "cell_type": "code",
   "execution_count": 56,
   "metadata": {},
   "outputs": [],
   "source": [
    "def bsleak(cat):\n",
    "    #are we leaking near BS LSLGA galaxies?\n",
    "    BS = (cat['MASKBITS'] & 2**1)!=0\n",
    "    obs = (BS)\n",
    "    print('N:','\\t',np.sum(obs))\n",
    "    print('--------')\n",
    "    \n",
    "    for i in np.where(obs)[0]:\n",
    "        if 'RMAG' not in cat.dtype.names:\n",
    "            rmag = flux_to_mag(cat['FLUX_R']/cat['MW_TRANSMISSION_R'])\n",
    "            print('%s \\t %s \\t %.3f' %(cat['REF_CAT'][i], cat['TYPE'][i], rmag[i]))\n",
    "        else:\n",
    "            print('%s \\t %s \\t %.3f' %(cat['REF_CAT'][i], cat['TYPE'][i], cat['RMAG'][i]))\n"
   ]
  },
  {
   "cell_type": "code",
   "execution_count": 10,
   "metadata": {},
   "outputs": [],
   "source": [
    "cat1 = Table.read(mastercat)"
   ]
  },
  {
   "cell_type": "code",
   "execution_count": 11,
   "metadata": {},
   "outputs": [
    {
     "name": "stdout",
     "output_type": "stream",
     "text": [
      "#LSLGA in whole SWEEP: \t 1275\n",
      "#LSLGA in BGS from MYCAT: \t 1260\n",
      "#LSLGA in BGS from DESITARGET: \t 1260\n"
     ]
    }
   ],
   "source": [
    "#Do we miss the LSLGA in BGS?\n",
    "LXmy = cat['REF_CAT'] == 'L2'\n",
    "LXdt = cat1['REF_CAT'] == 'L2'\n",
    "\n",
    "print('#LSLGA in whole SWEEP: \\t %i' %(np.sum(LXdt)))\n",
    "print('#LSLGA in BGS from MYCAT: \\t %i' %(np.sum((bgs) & (LXmy))))\n",
    "print('#LSLGA in BGS from DESITARGET: \\t %i' %(np.sum(((cat1b) | (cat1f)) & (LXdt))))\n"
   ]
  },
  {
   "cell_type": "code",
   "execution_count": 12,
   "metadata": {},
   "outputs": [
    {
     "name": "stdout",
     "output_type": "stream",
     "text": [
      "N: \t 0\n",
      "--------\n"
     ]
    }
   ],
   "source": [
    "bsleak(cat[bgs])"
   ]
  },
  {
   "cell_type": "code",
   "execution_count": 13,
   "metadata": {},
   "outputs": [
    {
     "name": "stdout",
     "output_type": "stream",
     "text": [
      "N: \t 0\n",
      "--------\n"
     ]
    }
   ],
   "source": [
    "bsleak(cat1[(cat1b) | (cat1f)])"
   ]
  },
  {
   "cell_type": "markdown",
   "metadata": {},
   "source": [
    "### SV"
   ]
  },
  {
   "cell_type": "code",
   "execution_count": 28,
   "metadata": {},
   "outputs": [],
   "source": [
    "catDT = Table.read(mastercat)\n",
    "BSMY = (cat['MASKBITS'] & 2**1)!=0\n",
    "BSDT = (catDT['MASKBITS'] & 2**1)!=0"
   ]
  },
  {
   "cell_type": "code",
   "execution_count": 15,
   "metadata": {},
   "outputs": [
    {
     "name": "stdout",
     "output_type": "stream",
     "text": [
      "-------- getting BGS SV targets --------\n",
      "Targ. Dens. of BGS SV bright: \t 823.149 (DESITARGET) \t 836.468 (MYCODE)\n",
      "galaxies in bright stars bit: \t 0.000 (DESITARGET) \t 0.000 (MYCODE)\n",
      "-------- getting BGS SV targets --------\n",
      "Targ. Dens. of BGS SV faint: \t 723.404 (DESITARGET) \t 733.936 (MYCODE)\n",
      "galaxies in bright stars bit: \t 0.000 (DESITARGET) \t 0.000 (MYCODE)\n",
      "-------- getting BGS SV targets --------\n",
      "Targ. Dens. of BGS SV faint_ext: \t 630.298 (DESITARGET) \t 637.617 (MYCODE)\n",
      "galaxies in bright stars bit: \t 0.000 (DESITARGET) \t 0.000 (MYCODE)\n",
      "-------- getting BGS SV targets --------\n",
      "Targ. Dens. of BGS SV lowq: \t 30.596 (DESITARGET) \t 6.745 (MYCODE)\n",
      "galaxies in bright stars bit: \t 0.000 (DESITARGET) \t 0.000 (MYCODE)\n",
      "-------- getting BGS SV targets --------\n",
      "Targ. Dens. of BGS SV fibmag: \t 181.766 (DESITARGET) \t 183.043 (MYCODE)\n",
      "galaxies in bright stars bit: \t 0.000 (DESITARGET) \t 0.000 (MYCODE)\n"
     ]
    }
   ],
   "source": [
    "keys = [\"bright\", \"faint\", \"faint_ext\", \"lowq\", \"fibmag\"]\n",
    "#keys = [\"lowq\"]\n",
    "for key in keys:\n",
    "    SV_MY = ((cat['BGSBITS'] & 2**(bgsmask()['bgs_sv_'+key])) != 0)\n",
    "    SV_DT = runtest(rff=True, targtype=key, primary1=False, file=mastercat, survey='sv')\n",
    "    print('Targ. Dens. of BGS SV %s: \\t %.3f (DESITARGET) \\t %.3f (MYCODE)' %(key, np.sum(SV_DT)/47, np.sum(SV_MY)/47))\n",
    "    print('galaxies in bright stars bit: \\t %.3f (DESITARGET) \\t %.3f (MYCODE)' %(np.sum((SV_DT) & (BSDT))/47, np.sum((SV_MY) & (BSMY))/47))"
   ]
  },
  {
   "cell_type": "markdown",
   "metadata": {},
   "source": [
    "## BGS assess comparison DESITARGET with MYCODE for DR9"
   ]
  },
  {
   "cell_type": "code",
   "execution_count": 120,
   "metadata": {
    "collapsed": true,
    "jupyter": {
     "outputs_hidden": true
    }
   },
   "outputs": [
    {
     "ename": "OSError",
     "evalue": "FITSIO status = 104: could not open the named file\nfailed to find or open the following file: (ffopen)\n/global/cfs/cdirs/cosmo/work/legacysurvey/dr9m/south/sweep/9.0/sweep-200p005-210\np010.fits\n",
     "output_type": "error",
     "traceback": [
      "\u001b[0;31m---------------------------------------------------------------------------\u001b[0m",
      "\u001b[0;31mOSError\u001b[0m                                   Traceback (most recent call last)",
      "\u001b[0;32m<ipython-input-120-271893789c72>\u001b[0m in \u001b[0;36m<module>\u001b[0;34m\u001b[0m\n\u001b[1;32m      1\u001b[0m \u001b[0;31m#run my bgsconcatenate on one sweep brick\u001b[0m\u001b[0;34m\u001b[0m\u001b[0;34m\u001b[0m\u001b[0;34m\u001b[0m\u001b[0m\n\u001b[1;32m      2\u001b[0m \u001b[0mmastercat\u001b[0m \u001b[0;34m=\u001b[0m \u001b[0;34m'/global/cfs/cdirs/cosmo/work/legacysurvey/dr9m/south/sweep/9.0/sweep-200p005-210p010.fits'\u001b[0m\u001b[0;34m\u001b[0m\u001b[0;34m\u001b[0m\u001b[0m\n\u001b[0;32m----> 3\u001b[0;31m \u001b[0mcat\u001b[0m \u001b[0;34m=\u001b[0m \u001b[0mgetBGSbits\u001b[0m\u001b[0;34m(\u001b[0m\u001b[0mmycatpath\u001b[0m\u001b[0;34m=\u001b[0m\u001b[0mmastercat\u001b[0m\u001b[0;34m,\u001b[0m \u001b[0moutdir\u001b[0m\u001b[0;34m=\u001b[0m\u001b[0;32mNone\u001b[0m\u001b[0;34m,\u001b[0m \u001b[0mmycat\u001b[0m\u001b[0;34m=\u001b[0m\u001b[0;32mTrue\u001b[0m\u001b[0;34m,\u001b[0m \u001b[0mgetmycat\u001b[0m\u001b[0;34m=\u001b[0m\u001b[0;32mTrue\u001b[0m\u001b[0;34m)\u001b[0m\u001b[0;34m\u001b[0m\u001b[0;34m\u001b[0m\u001b[0m\n\u001b[0m",
      "\u001b[0;32m~/DESI/bgstargets/py/io_.py\u001b[0m in \u001b[0;36mgetBGSbits\u001b[0;34m(cat, mycatpath, outdir, mycat, getmycat, tractor, verbose, south)\u001b[0m\n\u001b[1;32m    215\u001b[0m \u001b[0;34m\u001b[0m\u001b[0m\n\u001b[1;32m    216\u001b[0m         \u001b[0;32mif\u001b[0m \u001b[0mmycatpath\u001b[0m\u001b[0;34m[\u001b[0m\u001b[0;34m-\u001b[0m\u001b[0;36m4\u001b[0m\u001b[0;34m:\u001b[0m\u001b[0;34m]\u001b[0m \u001b[0;34m==\u001b[0m \u001b[0;34m'fits'\u001b[0m\u001b[0;34m:\u001b[0m\u001b[0;34m\u001b[0m\u001b[0;34m\u001b[0m\u001b[0m\n\u001b[0;32m--> 217\u001b[0;31m             \u001b[0mdf\u001b[0m \u001b[0;34m=\u001b[0m \u001b[0mfitsio\u001b[0m\u001b[0;34m.\u001b[0m\u001b[0mread\u001b[0m\u001b[0;34m(\u001b[0m\u001b[0mmycatpath\u001b[0m\u001b[0;34m)\u001b[0m\u001b[0;34m\u001b[0m\u001b[0;34m\u001b[0m\u001b[0m\n\u001b[0m\u001b[1;32m    218\u001b[0m         \u001b[0;32melse\u001b[0m\u001b[0;34m:\u001b[0m\u001b[0;34m\u001b[0m\u001b[0;34m\u001b[0m\u001b[0m\n\u001b[1;32m    219\u001b[0m             \u001b[0mdf\u001b[0m \u001b[0;34m=\u001b[0m \u001b[0mnp\u001b[0m\u001b[0;34m.\u001b[0m\u001b[0mload\u001b[0m\u001b[0;34m(\u001b[0m\u001b[0mmycatpath\u001b[0m\u001b[0;34m)\u001b[0m\u001b[0;34m\u001b[0m\u001b[0;34m\u001b[0m\u001b[0m\n",
      "\u001b[0;32m~/.conda/envs/DESI_BGS_omar/lib/python3.7/site-packages/fitsio/fitslib.py\u001b[0m in \u001b[0;36mread\u001b[0;34m(filename, ext, extver, **keys)\u001b[0m\n\u001b[1;32m     96\u001b[0m     \"\"\"\n\u001b[1;32m     97\u001b[0m \u001b[0;34m\u001b[0m\u001b[0m\n\u001b[0;32m---> 98\u001b[0;31m     \u001b[0;32mwith\u001b[0m \u001b[0mFITS\u001b[0m\u001b[0;34m(\u001b[0m\u001b[0mfilename\u001b[0m\u001b[0;34m,\u001b[0m \u001b[0;34m**\u001b[0m\u001b[0mkeys\u001b[0m\u001b[0;34m)\u001b[0m \u001b[0;32mas\u001b[0m \u001b[0mfits\u001b[0m\u001b[0;34m:\u001b[0m\u001b[0;34m\u001b[0m\u001b[0;34m\u001b[0m\u001b[0m\n\u001b[0m\u001b[1;32m     99\u001b[0m \u001b[0;34m\u001b[0m\u001b[0m\n\u001b[1;32m    100\u001b[0m         \u001b[0mheader\u001b[0m \u001b[0;34m=\u001b[0m \u001b[0mkeys\u001b[0m\u001b[0;34m.\u001b[0m\u001b[0mpop\u001b[0m\u001b[0;34m(\u001b[0m\u001b[0;34m'header'\u001b[0m\u001b[0;34m,\u001b[0m \u001b[0;32mFalse\u001b[0m\u001b[0;34m)\u001b[0m\u001b[0;34m\u001b[0m\u001b[0;34m\u001b[0m\u001b[0m\n",
      "\u001b[0;32m~/.conda/envs/DESI_BGS_omar/lib/python3.7/site-packages/fitsio/fitslib.py\u001b[0m in \u001b[0;36m__init__\u001b[0;34m(self, filename, mode, **keys)\u001b[0m\n\u001b[1;32m    405\u001b[0m                     \u001b[0mcreate\u001b[0m \u001b[0;34m=\u001b[0m \u001b[0;36m1\u001b[0m\u001b[0;34m\u001b[0m\u001b[0;34m\u001b[0m\u001b[0m\n\u001b[1;32m    406\u001b[0m \u001b[0;34m\u001b[0m\u001b[0m\n\u001b[0;32m--> 407\u001b[0;31m         \u001b[0mself\u001b[0m\u001b[0;34m.\u001b[0m\u001b[0m_FITS\u001b[0m \u001b[0;34m=\u001b[0m \u001b[0m_fitsio_wrap\u001b[0m\u001b[0;34m.\u001b[0m\u001b[0mFITS\u001b[0m\u001b[0;34m(\u001b[0m\u001b[0mfilename\u001b[0m\u001b[0;34m,\u001b[0m \u001b[0mself\u001b[0m\u001b[0;34m.\u001b[0m\u001b[0mintmode\u001b[0m\u001b[0;34m,\u001b[0m \u001b[0mcreate\u001b[0m\u001b[0;34m)\u001b[0m\u001b[0;34m\u001b[0m\u001b[0;34m\u001b[0m\u001b[0m\n\u001b[0m\u001b[1;32m    408\u001b[0m \u001b[0;34m\u001b[0m\u001b[0m\n\u001b[1;32m    409\u001b[0m     \u001b[0;32mdef\u001b[0m \u001b[0mclose\u001b[0m\u001b[0;34m(\u001b[0m\u001b[0mself\u001b[0m\u001b[0;34m)\u001b[0m\u001b[0;34m:\u001b[0m\u001b[0;34m\u001b[0m\u001b[0;34m\u001b[0m\u001b[0m\n",
      "\u001b[0;31mOSError\u001b[0m: FITSIO status = 104: could not open the named file\nfailed to find or open the following file: (ffopen)\n/global/cfs/cdirs/cosmo/work/legacysurvey/dr9m/south/sweep/9.0/sweep-200p005-210\np010.fits\n"
     ]
    }
   ],
   "source": [
    "#run my bgsconcatenate on one sweep brick\n",
    "mastercat = '/global/cfs/cdirs/cosmo/work/legacysurvey/dr9m/south/sweep/9.0/sweep-200p005-210p010.fits'\n",
    "cat = getBGSbits(mycatpath=mastercat, outdir=None, mycat=True, getmycat=True)"
   ]
  },
  {
   "cell_type": "code",
   "execution_count": 21,
   "metadata": {},
   "outputs": [
    {
     "name": "stdout",
     "output_type": "stream",
     "text": [
      "-------- getting BGS MAIN targets --------\n",
      "-------- getting BGS MAIN targets --------\n"
     ]
    }
   ],
   "source": [
    "#run desitarget on the same sweep brick\n",
    "#see: /global/homes/q/qmxp55/DESI/bgs_main/select_targets_bgs.py\n",
    "#cat1 = fitsio.read('/global/cscratch1/sd/qmxp55/desitarget_output/test_lslga_1.fits/targets/main/resolve/targets-drX-hp-X.fits')\n",
    "cat1b = runtest(rff=True, targtype='bright', primary1=False, file=mastercat)\n",
    "cat1f = runtest(rff=True, targtype='faint', primary1=False, file=mastercat)"
   ]
  },
  {
   "cell_type": "code",
   "execution_count": 26,
   "metadata": {},
   "outputs": [],
   "source": [
    "#bgsf1 = (cat1f['BGS_TARGET'] & 2**(0)) != 0\n",
    "#bgsb1 = (cat1b['BGS_TARGET'] & 2**(1)) != 0\n",
    "\n",
    "bgsb = ((cat['BGSBITS'] & 2**(21)) != 0)\n",
    "bgsf = ((cat['BGSBITS'] & 2**(22)) != 0)\n",
    "bgs = ((cat['BGSBITS'] & 2**(20)) != 0)"
   ]
  },
  {
   "cell_type": "code",
   "execution_count": 6,
   "metadata": {},
   "outputs": [
    {
     "name": "stdout",
     "output_type": "stream",
     "text": [
      "Targ. Dens. of BGS faint: 591.660 (DESITARGET) \t 591.660 (MYCODE)\n",
      "Targ. Dens. of BGS bright: 870.894 (DESITARGET) \t 870.894 (MYCODE)\n"
     ]
    }
   ],
   "source": [
    "print('Targ. Dens. of BGS faint: %.3f (DESITARGET) \\t %.3f (MYCODE)' %(np.sum(cat1f)/47, np.sum(bgsf)/47))\n",
    "print('Targ. Dens. of BGS bright: %.3f (DESITARGET) \\t %.3f (MYCODE)' %(np.sum(cat1b)/47, np.sum(bgsb)/47))"
   ]
  },
  {
   "cell_type": "code",
   "execution_count": 7,
   "metadata": {},
   "outputs": [],
   "source": [
    "cat1 = Table.read(mastercat)"
   ]
  },
  {
   "cell_type": "code",
   "execution_count": 8,
   "metadata": {},
   "outputs": [
    {
     "name": "stdout",
     "output_type": "stream",
     "text": [
      "#LSLGA in whole SWEEP: \t 0\n",
      "#LSLGA in BGS from MYCAT: \t 0\n",
      "#LSLGA in BGS from DESITARGET: \t 0\n"
     ]
    }
   ],
   "source": [
    "#Do we miss the LSLGA in BGS?\n",
    "LXmy = cat['REF_CAT'] == 'L4'\n",
    "LXdt = cat1['REF_CAT'] == 'L4'\n",
    "\n",
    "print('#LSLGA in whole SWEEP: \\t %i' %(np.sum(LXdt)))\n",
    "print('#LSLGA in BGS from MYCAT: \\t %i' %(np.sum((bgs) & (LXmy))))\n",
    "print('#LSLGA in BGS from DESITARGET: \\t %i' %(np.sum(((cat1b) | (cat1f)) & (LXdt))))\n"
   ]
  },
  {
   "cell_type": "code",
   "execution_count": 11,
   "metadata": {},
   "outputs": [
    {
     "name": "stdout",
     "output_type": "stream",
     "text": [
      "N: \t 0\n",
      "--------\n"
     ]
    }
   ],
   "source": [
    "bsleak(cat[bgs])"
   ]
  },
  {
   "cell_type": "code",
   "execution_count": 12,
   "metadata": {},
   "outputs": [
    {
     "name": "stdout",
     "output_type": "stream",
     "text": [
      "N: \t 0\n",
      "--------\n"
     ]
    }
   ],
   "source": [
    "bsleak(cat1[(cat1b) | (cat1f)])"
   ]
  },
  {
   "cell_type": "markdown",
   "metadata": {},
   "source": [
    "### SV"
   ]
  },
  {
   "cell_type": "code",
   "execution_count": 34,
   "metadata": {},
   "outputs": [],
   "source": [
    "catDT = Table.read(mastercat)\n",
    "BSMY = (cat['MASKBITS'] & 2**1)!=0\n",
    "BSDT = (catDT['MASKBITS'] & 2**1)!=0"
   ]
  },
  {
   "cell_type": "code",
   "execution_count": 36,
   "metadata": {},
   "outputs": [
    {
     "name": "stdout",
     "output_type": "stream",
     "text": [
      "-------- getting BGS SV targets --------\n",
      "Targ. Dens. of BGS SV lowq: \t 28.745 (DESITARGET) \t 28.745 (MYCODE)\n",
      "galaxies in bright stars bit: \t 0.000 (DESITARGET) \t 0.000 (MYCODE)\n",
      "-------- getting BGS SV targets --------\n",
      "Targ. Dens. of BGS SV fibmag: \t 169.383 (DESITARGET) \t 169.383 (MYCODE)\n",
      "galaxies in bright stars bit: \t 0.000 (DESITARGET) \t 0.000 (MYCODE)\n"
     ]
    }
   ],
   "source": [
    "#keys = [\"bright\", \"faint\", \"faint_ext\", \"lowq\", \"fibmag\"]\n",
    "keys = [\"lowq\", \"fibmag\"]\n",
    "for key in keys:\n",
    "    SV_MY = ((cat['BGSBITS'] & 2**(bgsmask()['bgs_sv_'+key])) != 0)\n",
    "    SV_DT = runtest(rff=True, targtype=key, primary1=False, file=mastercat, survey='sv')\n",
    "    print('Targ. Dens. of BGS SV %s: \\t %.3f (DESITARGET) \\t %.3f (MYCODE)' %(key, np.sum(SV_DT)/47, np.sum(SV_MY)/47))\n",
    "    print('galaxies in bright stars bit: \\t %.3f (DESITARGET) \\t %.3f (MYCODE)' %(np.sum((SV_DT) & (BSDT))/47, np.sum((SV_MY) & (BSMY))/47))"
   ]
  },
  {
   "cell_type": "markdown",
   "metadata": {},
   "source": [
    "## BGS assess comparison DESITARGET with MYCODE for DR9 SV3"
   ]
  },
  {
   "cell_type": "markdown",
   "metadata": {},
   "source": [
    "## SOUTH"
   ]
  },
  {
   "cell_type": "code",
   "execution_count": 7,
   "metadata": {
    "collapsed": true,
    "jupyter": {
     "outputs_hidden": true
    }
   },
   "outputs": [
    {
     "name": "stdout",
     "output_type": "stream",
     "text": [
      "---- BGSMASK key: ---- \n",
      "\t BS, 0, 1\n",
      "\t MS, 1, 2\n",
      "\t GC, 2, 4\n",
      "\t LG, 3, 8\n",
      "\t allmask, 4, 16\n",
      "\t nobs, 5, 32\n",
      "\t SG, 6, 64\n",
      "\t SGSV, 7, 128\n",
      "\t FMC, 8, 256\n",
      "\t FMC2, 9, 512\n",
      "\t CC, 10, 1024\n",
      "\t QC_FM, 11, 2048\n",
      "\t QC_FI, 12, 4096\n",
      "\t QC_FF, 13, 8192\n",
      "\t QC_FM2, 14, 16384\n",
      "\t QC_FI2, 15, 32768\n",
      "\t QC_FF2, 16, 65536\n",
      "\t QC_IVAR, 17, 131072\n",
      "\t rfibcol, 18, 262144\n",
      "\t agns, 19, 524288\n",
      "\t bgs_any, 20, 1048576\n",
      "\t bgs_bright, 21, 2097152\n",
      "\t bgs_faint, 22, 4194304\n",
      "\t bgs_sv_any, 30, 1073741824\n",
      "\t bgs_sv_bright, 31, 2147483648\n",
      "\t bgs_sv_faint, 32, 4294967296\n",
      "\t bgs_sv_faint_ext, 33, 8589934592\n",
      "\t bgs_sv_fibmag, 34, 17179869184\n",
      "\t bgs_sv_lowq, 35, 34359738368\n",
      "\t bgs_sv3_any, 40, 1099511627776\n",
      "\t bgs_sv3_bright, 41, 2199023255552\n",
      "\t bgs_sv3_faint, 42, 4398046511104\n",
      "\t bgs_sv3_wise, 43, 8796093022208\n",
      "---- Sanity Check ---- \n",
      "\t BS, 4122443, 4122443\n",
      "\t MS, 4029139, 4029139\n",
      "\t GC, 4143328, 4143328\n",
      "\t LG, 4132116, 4132116\n",
      "\t allmask, 4131173, 4131173\n",
      "\t nobs, 4142454, 4142454\n",
      "\t SG, 3973822, 3973822\n",
      "\t SGSV, 3975413, 3975413\n",
      "\t FMC, 4128867, 4128867\n",
      "\t FMC2, 4129521, 4129521\n",
      "\t CC, 3951355, 3951355\n",
      "\t QC_FM, 4116211, 4116211\n",
      "\t QC_FI, 4141585, 4141585\n",
      "\t QC_FF, 4030544, 4030544\n",
      "\t QC_FM2, 4133878, 4133878\n",
      "\t QC_FI2, 4142772, 4142772\n",
      "\t QC_FF2, 4089726, 4089726\n",
      "\t QC_IVAR, 4141973, 4141973\n",
      "\t rfibcol, 227965, 227965\n",
      "\t agns, 156, 156\n",
      "\t bgs_any, 68740, 68740\n",
      "\t bgs_bright, 40932, 40932\n",
      "\t bgs_faint, 27808, 27808\n",
      "\t bgs_sv_any, 117998, 117998\n",
      "\t bgs_sv_bright, 42274, 42274\n",
      "\t bgs_sv_faint, 36311, 36311\n",
      "\t bgs_sv_faint_ext, 31232, 31232\n",
      "\t bgs_sv_fibmag, 7961, 7961\n",
      "\t bgs_sv_lowq, 1351, 1351\n",
      "\t bgs_sv3_any, 71879, 71879\n",
      "\t bgs_sv3_bright, 41790, 41790\n",
      "\t bgs_sv3_faint, 29933, 29933\n",
      "\t bgs_sv3_wise, 156, 156\n",
      "Total run time: 59.122661 sec\n"
     ]
    }
   ],
   "source": [
    "#run my bgsconcatenate on one sweep brick\n",
    "mastercat = '/global/cfs/cdirs/cosmo/work/legacysurvey/dr9/south/sweep/9.0/sweep-200p005-210p010.fits'\n",
    "cat = getBGSbits(mycatpath=mastercat, outdir=None, mycat=True, getmycat=True, verbose=True, south=True)"
   ]
  },
  {
   "cell_type": "code",
   "execution_count": 8,
   "metadata": {},
   "outputs": [],
   "source": [
    "#\n",
    "bgsw = ((cat['BGSBITS'] & 2**(43)) != 0)\n",
    "bgsb = ((cat['BGSBITS'] & 2**(41)) != 0)\n",
    "bgsf = ((cat['BGSBITS'] & 2**(42)) != 0) #& (rfibcol)\n",
    "bgs = ((cat['BGSBITS'] & 2**(40)) != 0)"
   ]
  },
  {
   "cell_type": "code",
   "execution_count": 16,
   "metadata": {},
   "outputs": [
    {
     "name": "stdout",
     "output_type": "stream",
     "text": [
      "-------- getting BGS SV3 targets --------\n",
      "-------- getting BGS SV3 targets --------\n",
      "-------- getting BGS SV3 targets --------\n"
     ]
    }
   ],
   "source": [
    "#run desitarget on the same sweep brick\n",
    "cat1b = runtest(rff=True, targtype='bright', primary1=False, file=mastercat, survey='sv3', south=True, option=1)\n",
    "cat1f = runtest(rff=True, targtype='faint', primary1=False, file=mastercat, survey='sv3', south=True, option=1)\n",
    "cat1w = runtest(rff=True, targtype='wise', primary1=False, file=mastercat, survey='sv3', south=True, option=1)"
   ]
  },
  {
   "cell_type": "code",
   "execution_count": 17,
   "metadata": {},
   "outputs": [
    {
     "name": "stdout",
     "output_type": "stream",
     "text": [
      "Targ. Dens. of BGS faint: 636.872 (DESITARGET) \t 636.872 (MYCODE) \t 0.000 (diff)\n",
      "Targ. Dens. of BGS bright: 889.149 (DESITARGET) \t 889.149 (MYCODE) \t 0.000 (diff)\n",
      "Targ. Dens. of BGS wise: 3.319 (DESITARGET) \t 3.319 (MYCODE) \t 0.000 (diff)\n"
     ]
    }
   ],
   "source": [
    "N = 47\n",
    "print('Targ. Dens. of BGS faint: %.3f (DESITARGET) \\t %.3f (MYCODE) \\t %.3f (diff)' %(np.sum(cat1f)/N, np.sum(bgsf)/N, np.sum(cat1f)/N - np.sum(bgsf)/N))\n",
    "print('Targ. Dens. of BGS bright: %.3f (DESITARGET) \\t %.3f (MYCODE) \\t %.3f (diff)' %(np.sum(cat1b)/N, np.sum(bgsb)/N, np.sum(cat1b)/N - np.sum(bgsb)/N))\n",
    "print('Targ. Dens. of BGS wise: %.3f (DESITARGET) \\t %.3f (MYCODE) \\t %.3f (diff)' %(np.sum(cat1w)/N, np.sum(bgsw)/N, np.sum(cat1w)/N - np.sum(bgsw)/N))"
   ]
  },
  {
   "cell_type": "code",
   "execution_count": 18,
   "metadata": {},
   "outputs": [],
   "source": [
    "cat1 = Table.read(mastercat)"
   ]
  },
  {
   "cell_type": "code",
   "execution_count": 19,
   "metadata": {},
   "outputs": [
    {
     "name": "stdout",
     "output_type": "stream",
     "text": [
      "#LSLGA in whole SWEEP: \t 1179\n",
      "#LSLGA in BGS from MYCAT: \t 1175\n",
      "#LSLGA in BGS from DESITARGET: \t 1175\n",
      "===============\n",
      "#LSLGA in BGS Bright from MYCAT: \t 1175\n",
      "#LSLGA in BGS Bright from DESITARGET: \t 1175\n",
      "===============\n",
      "#LSLGA in BGS Faint from MYCAT: \t 0\n",
      "#LSLGA in BGS Faint from DESITARGET: \t 0\n"
     ]
    }
   ],
   "source": [
    "#Do we miss the LSLGA in BGS?\n",
    "LXmy = cat['REF_CAT'] == 'L3'\n",
    "LXdt = cat1['REF_CAT'] == 'L3'\n",
    "\n",
    "print('#LSLGA in whole SWEEP: \\t %i' %(np.sum(LXdt)))\n",
    "print('#LSLGA in BGS from MYCAT: \\t %i' %(np.sum((bgs) & (LXmy))))\n",
    "print('#LSLGA in BGS from DESITARGET: \\t %i' %(np.sum(((cat1b) | (cat1f)) & (LXdt))))\n",
    "\n",
    "print('===============')\n",
    "print('#LSLGA in BGS Bright from MYCAT: \\t %i' %(np.sum((bgsb) & (LXmy))))\n",
    "print('#LSLGA in BGS Bright from DESITARGET: \\t %i' %(np.sum(((cat1b)) & (LXdt))))\n",
    "\n",
    "print('===============')\n",
    "print('#LSLGA in BGS Faint from MYCAT: \\t %i' %(np.sum((bgsf) & (LXmy))))\n",
    "print('#LSLGA in BGS Faint from DESITARGET: \\t %i' %(np.sum(((cat1f)) & (LXdt))))\n"
   ]
  },
  {
   "cell_type": "code",
   "execution_count": 99,
   "metadata": {},
   "outputs": [
    {
     "name": "stdout",
     "output_type": "stream",
     "text": [
      "N: \t 0\n",
      "--------\n"
     ]
    }
   ],
   "source": [
    "bsleak(cat[bgs])"
   ]
  },
  {
   "cell_type": "code",
   "execution_count": 100,
   "metadata": {},
   "outputs": [
    {
     "name": "stdout",
     "output_type": "stream",
     "text": [
      "N: \t 0\n",
      "--------\n"
     ]
    }
   ],
   "source": [
    "bsleak(cat1[(cat1b) | (cat1f)])"
   ]
  },
  {
   "cell_type": "markdown",
   "metadata": {},
   "source": [
    "## NORTH"
   ]
  },
  {
   "cell_type": "code",
   "execution_count": 20,
   "metadata": {
    "collapsed": true,
    "jupyter": {
     "outputs_hidden": true
    }
   },
   "outputs": [
    {
     "name": "stdout",
     "output_type": "stream",
     "text": [
      "---- BGSMASK key: ---- \n",
      "\t BS, 0, 1\n",
      "\t MS, 1, 2\n",
      "\t GC, 2, 4\n",
      "\t LG, 3, 8\n",
      "\t allmask, 4, 16\n",
      "\t nobs, 5, 32\n",
      "\t SG, 6, 64\n",
      "\t SGSV, 7, 128\n",
      "\t FMC, 8, 256\n",
      "\t FMC2, 9, 512\n",
      "\t CC, 10, 1024\n",
      "\t QC_FM, 11, 2048\n",
      "\t QC_FI, 12, 4096\n",
      "\t QC_FF, 13, 8192\n",
      "\t QC_FM2, 14, 16384\n",
      "\t QC_FI2, 15, 32768\n",
      "\t QC_FF2, 16, 65536\n",
      "\t QC_IVAR, 17, 131072\n",
      "\t rfibcol, 18, 262144\n",
      "\t agns, 19, 524288\n",
      "\t bgs_any, 20, 1048576\n",
      "\t bgs_bright, 21, 2097152\n",
      "\t bgs_faint, 22, 4194304\n",
      "\t bgs_sv_any, 30, 1073741824\n",
      "\t bgs_sv_bright, 31, 2147483648\n",
      "\t bgs_sv_faint, 32, 4294967296\n",
      "\t bgs_sv_faint_ext, 33, 8589934592\n",
      "\t bgs_sv_fibmag, 34, 17179869184\n",
      "\t bgs_sv_lowq, 35, 34359738368\n",
      "\t bgs_sv3_any, 40, 1099511627776\n",
      "\t bgs_sv3_bright, 41, 2199023255552\n",
      "\t bgs_sv3_faint, 42, 4398046511104\n",
      "\t bgs_sv3_wise, 43, 8796093022208\n",
      "---- Sanity Check ---- \n",
      "\t BS, 2190479, 2190479\n",
      "\t MS, 2138668, 2138668\n",
      "\t GC, 2200751, 2200751\n",
      "\t LG, 2186898, 2186898\n",
      "\t allmask, 2187239, 2187239\n",
      "\t nobs, 2200096, 2200096\n",
      "\t SG, 2110088, 2110088\n",
      "\t SGSV, 2111193, 2111193\n",
      "\t FMC, 2179324, 2179324\n",
      "\t FMC2, 2180112, 2180112\n",
      "\t CC, 2085867, 2085867\n",
      "\t QC_FM, 2170630, 2170630\n",
      "\t QC_FI, 2199259, 2199259\n",
      "\t QC_FF, 2142186, 2142186\n",
      "\t QC_FM2, 2191422, 2191422\n",
      "\t QC_FI2, 2200374, 2200374\n",
      "\t QC_FF2, 2171120, 2171120\n",
      "\t QC_IVAR, 2199370, 2199370\n",
      "\t rfibcol, 133734, 133734\n",
      "\t agns, 151, 151\n",
      "\t bgs_any, 50324, 50324\n",
      "\t bgs_bright, 29216, 29216\n",
      "\t bgs_faint, 21108, 21108\n",
      "\t bgs_sv_any, 90151, 90151\n",
      "\t bgs_sv_bright, 30434, 30434\n",
      "\t bgs_sv_faint, 27477, 27477\n",
      "\t bgs_sv_faint_ext, 23071, 23071\n",
      "\t bgs_sv_fibmag, 6240, 6240\n",
      "\t bgs_sv_lowq, 4049, 4049\n",
      "\t bgs_sv3_any, 53579, 53579\n",
      "\t bgs_sv3_bright, 31343, 31343\n",
      "\t bgs_sv3_faint, 22085, 22085\n",
      "\t bgs_sv3_wise, 151, 151\n",
      "Total run time: 32.248520 sec\n"
     ]
    }
   ],
   "source": [
    "#run my bgsconcatenate on one sweep brick\n",
    "mastercat = '/global/cfs/cdirs/cosmo/work/legacysurvey/dr9/north/sweep/9.0/sweep-190p040-200p045.fits'\n",
    "cat = getBGSbits(mycatpath=mastercat, outdir=None, mycat=True, getmycat=True, verbose=True, south=False)"
   ]
  },
  {
   "cell_type": "code",
   "execution_count": 21,
   "metadata": {},
   "outputs": [
    {
     "name": "stdout",
     "output_type": "stream",
     "text": [
      "-------- getting BGS SV3 targets --------\n",
      "-------- getting BGS SV3 targets --------\n",
      "-------- getting BGS SV3 targets --------\n"
     ]
    }
   ],
   "source": [
    "#run desitarget on the same sweep brick\n",
    "cat1b = runtest(rff=True, targtype='bright', primary1=False, file=mastercat, survey='sv3', south=False, option=1)\n",
    "cat1f = runtest(rff=True, targtype='faint', primary1=False, file=mastercat, survey='sv3', south=False, option=1)\n",
    "cat1w = runtest(rff=True, targtype='wise', primary1=False, file=mastercat, survey='sv3', south=False, option=1)"
   ]
  },
  {
   "cell_type": "code",
   "execution_count": 22,
   "metadata": {},
   "outputs": [],
   "source": [
    "#\n",
    "bgsw = ((cat['BGSBITS'] & 2**(43)) != 0)\n",
    "bgsb = ((cat['BGSBITS'] & 2**(41)) != 0)\n",
    "bgsf = ((cat['BGSBITS'] & 2**(42)) != 0) #& (rfibcol)\n",
    "bgs = ((cat['BGSBITS'] & 2**(40)) != 0)"
   ]
  },
  {
   "cell_type": "code",
   "execution_count": 23,
   "metadata": {},
   "outputs": [
    {
     "name": "stdout",
     "output_type": "stream",
     "text": [
      "Targ. Dens. of BGS faint: 469.894 (DESITARGET) \t 469.894 (MYCODE) \t 0.000 (diff)\n",
      "Targ. Dens. of BGS bright: 666.872 (DESITARGET) \t 666.872 (MYCODE) \t 0.000 (diff)\n",
      "Targ. Dens. of BGS wise: 3.213 (DESITARGET) \t 3.213 (MYCODE) \t 0.000 (diff)\n"
     ]
    }
   ],
   "source": [
    "N = 47\n",
    "print('Targ. Dens. of BGS faint: %.3f (DESITARGET) \\t %.3f (MYCODE) \\t %.3f (diff)' %(np.sum(cat1f)/N, np.sum(bgsf)/N, np.sum(cat1f)/N - np.sum(bgsf)/N))\n",
    "print('Targ. Dens. of BGS bright: %.3f (DESITARGET) \\t %.3f (MYCODE) \\t %.3f (diff)' %(np.sum(cat1b)/N, np.sum(bgsb)/N, np.sum(cat1b)/N - np.sum(bgsb)/N))\n",
    "print('Targ. Dens. of BGS wise: %.3f (DESITARGET) \\t %.3f (MYCODE) \\t %.3f (diff)' %(np.sum(cat1w)/N, np.sum(bgsw)/N, np.sum(cat1w)/N - np.sum(bgsw)/N))"
   ]
  },
  {
   "cell_type": "code",
   "execution_count": 24,
   "metadata": {},
   "outputs": [],
   "source": [
    "cat1 = Table.read(mastercat)"
   ]
  },
  {
   "cell_type": "code",
   "execution_count": 25,
   "metadata": {},
   "outputs": [
    {
     "name": "stdout",
     "output_type": "stream",
     "text": [
      "#LSLGA in whole SWEEP: \t 784\n",
      "#LSLGA in BGS from MYCAT: \t 779\n",
      "#LSLGA in BGS from DESITARGET: \t 779\n",
      "===============\n",
      "#LSLGA in BGS Bright from MYCAT: \t 779\n",
      "#LSLGA in BGS Bright from DESITARGET: \t 779\n",
      "===============\n",
      "#LSLGA in BGS Faint from MYCAT: \t 0\n",
      "#LSLGA in BGS Faint from DESITARGET: \t 0\n"
     ]
    }
   ],
   "source": [
    "#Do we miss the LSLGA in BGS?\n",
    "LXmy = cat['REF_CAT'] == 'L3'\n",
    "LXdt = cat1['REF_CAT'] == 'L3'\n",
    "\n",
    "print('#LSLGA in whole SWEEP: \\t %i' %(np.sum(LXdt)))\n",
    "print('#LSLGA in BGS from MYCAT: \\t %i' %(np.sum((bgs) & (LXmy))))\n",
    "print('#LSLGA in BGS from DESITARGET: \\t %i' %(np.sum(((cat1b) | (cat1f)) & (LXdt))))\n",
    "\n",
    "print('===============')\n",
    "print('#LSLGA in BGS Bright from MYCAT: \\t %i' %(np.sum((bgsb) & (LXmy))))\n",
    "print('#LSLGA in BGS Bright from DESITARGET: \\t %i' %(np.sum(((cat1b)) & (LXdt))))\n",
    "\n",
    "print('===============')\n",
    "print('#LSLGA in BGS Faint from MYCAT: \\t %i' %(np.sum((bgsf) & (LXmy))))\n",
    "print('#LSLGA in BGS Faint from DESITARGET: \\t %i' %(np.sum(((cat1f)) & (LXdt))))\n"
   ]
  },
  {
   "cell_type": "code",
   "execution_count": 27,
   "metadata": {},
   "outputs": [
    {
     "data": {
      "text/plain": [
       "(array([1.000e+00, 0.000e+00, 1.000e+00, 2.000e+00, 4.000e+00, 1.000e+00,\n",
       "        8.000e+00, 1.100e+01, 1.700e+01, 1.900e+01, 3.300e+01, 3.600e+01,\n",
       "        5.200e+01, 8.200e+01, 1.100e+02, 1.500e+02, 1.860e+02, 2.230e+02,\n",
       "        3.130e+02, 4.300e+02, 5.890e+02, 8.260e+02, 1.059e+03, 1.433e+03,\n",
       "        1.897e+03, 2.580e+03, 3.423e+03, 4.564e+03, 5.758e+03, 7.535e+03]),\n",
       " array([12.118955, 12.366322, 12.613689, 12.861056, 13.108424, 13.355791,\n",
       "        13.603159, 13.850526, 14.097893, 14.345261, 14.592628, 14.839995,\n",
       "        15.087362, 15.33473 , 15.582097, 15.829464, 16.076832, 16.3242  ,\n",
       "        16.571566, 16.818933, 17.066301, 17.31367 , 17.561035, 17.808403,\n",
       "        18.05577 , 18.303137, 18.550505, 18.797873, 19.04524 , 19.292606,\n",
       "        19.539974], dtype=float32),\n",
       " <a list of 30 Patch objects>)"
      ]
     },
     "execution_count": 27,
     "metadata": {},
     "output_type": "execute_result"
    },
    {
     "data": {
      "image/png": "[encoded data removed]",
      "text/plain": [
       "<Figure size 432x288 with 1 Axes>"
      ]
     },
     "metadata": {
      "needs_background": "light"
     },
     "output_type": "display_data"
    }
   ],
   "source": [
    "key = 'RMAG'\n",
    "finite = np.isfinite(cat[key])\n",
    "plt.hist(cat[key][finite], 30, log=True)\n",
    "plt.hist(cat[key][bgsb], 30, log=True)"
   ]
  },
  {
   "cell_type": "code",
   "execution_count": 30,
   "metadata": {},
   "outputs": [
    {
     "data": {
      "text/plain": [
       "2"
      ]
     },
     "execution_count": 30,
     "metadata": {},
     "output_type": "execute_result"
    }
   ],
   "source": [
    "(cat['RMAG'][bgsb] < 13).sum()"
   ]
  },
  {
   "cell_type": "code",
   "execution_count": null,
   "metadata": {},
   "outputs": [],
   "source": []
  }
 ],
 "metadata": {
  "kernelspec": {
   "display_name": "BGS",
   "language": "python",
   "name": "desi_bgs_omar"
  },
  "language_info": {
   "codemirror_mode": {
    "name": "ipython",
    "version": 3
   },
   "file_extension": ".py",
   "mimetype": "text/x-python",
   "name": "python",
   "nbconvert_exporter": "python",
   "pygments_lexer": "ipython3",
   "version": "3.7.3"
  }
 },
 "nbformat": 4,
 "nbformat_minor": 4
}
