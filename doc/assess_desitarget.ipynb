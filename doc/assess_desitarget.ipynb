{
 "cells": [
  {
   "cell_type": "code",
   "execution_count": 15,
   "metadata": {},
   "outputs": [
    {
     "name": "stdout",
     "output_type": "stream",
     "text": [
      "The autoreload extension is already loaded. To reload it, use:\n",
      "  %reload_ext autoreload\n"
     ]
    }
   ],
   "source": [
    "#\n",
    "import numpy as np\n",
    "import os, sys\n",
    "\n",
    "sys.path.insert(0, '/global/homes/q/qmxp55/DESI/bgstargets/py')\n",
    "\n",
    "from io_ import get_sweep_whole, getBGSbits\n",
    "from io_ import get_random, get_isdesi, get_dict, bgsmask, get_reg\n",
    "from cuts import getGeoCuts, get_bgs, flux_to_mag\n",
    "from QA import getStats, flow\n",
    "\n",
    "sys.path.insert(0, '/global/homes/q/qmxp55/DESI/bgs_main/')\n",
    "from desitarget.cuts import select_targets\n",
    "from desitarget import io, cuts\n",
    "from desitarget.sv1 import sv1_cuts\n",
    "\n",
    "import healpy as hp\n",
    "import astropy.io.fits as fits\n",
    "from astropy.coordinates import SkyCoord\n",
    "import astropy.units as units\n",
    "import fitsio\n",
    "import matplotlib.pyplot as plt\n",
    "from astropy.table import Table\n",
    "\n",
    "%load_ext autoreload\n",
    "%autoreload 2\n",
    "\n",
    "import warnings\n",
    "warnings.filterwarnings('ignore')"
   ]
  },
  {
   "cell_type": "code",
   "execution_count": 2,
   "metadata": {},
   "outputs": [],
   "source": [
    "\n",
    "def runtest(rff=False, targtype=\"bright\", primary1=False, file=None, survey='main'):\n",
    "    \n",
    "    if file is None: raise ValueError('Select a file from SWEEPS, TRACTOR or DESITARGET-like')\n",
    "    targets = Table.read(file)\n",
    "    flux = cuts.unextinct_fluxes(targets)\n",
    "    gflux = flux['GFLUX']\n",
    "    rflux = flux['RFLUX']\n",
    "    zflux = flux['ZFLUX']\n",
    "    w1flux = flux['W1FLUX']\n",
    "    w2flux = flux['W2FLUX']\n",
    "    zfiberflux = flux['ZFIBERFLUX']\n",
    "    rfiberflux = flux['RFIBERFLUX']\n",
    "    objtype = targets['TYPE']\n",
    "\n",
    "    gfluxivar = targets['FLUX_IVAR_G']\n",
    "    rfluxivar = targets['FLUX_IVAR_R']\n",
    "    zfluxivar = targets['FLUX_IVAR_Z']\n",
    "\n",
    "    gsnr = targets['FLUX_G'] * np.sqrt(targets['FLUX_IVAR_G'])\n",
    "    rsnr = targets['FLUX_R'] * np.sqrt(targets['FLUX_IVAR_R'])\n",
    "    zsnr = targets['FLUX_Z'] * np.sqrt(targets['FLUX_IVAR_Z'])\n",
    "    w1snr = targets['FLUX_W1'] * np.sqrt(targets['FLUX_IVAR_W1'])\n",
    "    w2snr = targets['FLUX_W2'] * np.sqrt(targets['FLUX_IVAR_W2'])\n",
    "\n",
    "    dchisq = targets['DCHISQ']\n",
    "    deltaChi2 = dchisq[..., 0] - dchisq[..., 1]\n",
    "\n",
    "    gnobs, rnobs, znobs = targets['NOBS_G'], targets['NOBS_R'], targets['NOBS_Z']\n",
    "    gallmask = targets['ALLMASK_G']\n",
    "    rallmask = targets['ALLMASK_R']\n",
    "    zallmask = targets['ALLMASK_Z']\n",
    "    gfracflux = targets['FRACFLUX_G']\n",
    "    rfracflux = targets['FRACFLUX_R']\n",
    "    zfracflux = targets['FRACFLUX_Z']\n",
    "    gfracmasked = targets['FRACMASKED_G']\n",
    "    rfracmasked = targets['FRACMASKED_R']\n",
    "    zfracmasked = targets['FRACMASKED_Z']\n",
    "    gfracin = targets['FRACIN_G']\n",
    "    rfracin = targets['FRACIN_R']\n",
    "    zfracin = targets['FRACIN_Z']\n",
    "    maskbits = targets['MASKBITS']\n",
    "    refcat = targets['REF_CAT']\n",
    "\n",
    "    gaiagmag = targets['GAIA_PHOT_G_MEAN_MAG']\n",
    "    Grr = gaiagmag - 22.5 + 2.5*np.log10(targets['FLUX_R'])\n",
    "\n",
    "    if 'BRICK_PRIMARY' in targets.colnames:\n",
    "        primary = targets['BRICK_PRIMARY']\n",
    "    else:\n",
    "        primary = np.ones_like(gflux, dtype='?')\n",
    "    \n",
    "    if rff: ff = rfiberflux\n",
    "    else: ff = None\n",
    "    \n",
    "    if primary1: prim = primary\n",
    "    else: prim = None\n",
    "    \n",
    "    if survey == 'main':\n",
    "        print('-------- getting BGS MAIN targets --------')\n",
    "        bgs = cuts.isBGS(\n",
    "            rfiberflux=ff, gflux=gflux, rflux=rflux,\n",
    "            zflux=zflux, w1flux=w1flux, w2flux=w2flux,\n",
    "            gnobs=gnobs, rnobs=rnobs, znobs=znobs,\n",
    "            gfracmasked=gfracmasked, rfracmasked=rfracmasked,\n",
    "            zfracmasked=zfracmasked, gfracflux=gfracflux,\n",
    "            rfracflux=rfracflux, zfracflux=zfracflux,\n",
    "            gfracin=gfracin, rfracin=rfracin, zfracin=zfracin,\n",
    "            gfluxivar=gfluxivar, rfluxivar=rfluxivar,\n",
    "            zfluxivar=zfluxivar, maskbits=maskbits,\n",
    "            Grr=Grr, refcat=refcat, w1snr=w1snr, gaiagmag=gaiagmag,\n",
    "            primary=prim, targtype=targtype)\n",
    "    elif survey == 'sv':\n",
    "        print('-------- getting BGS SV targets --------')\n",
    "        bgs = sv1_cuts.isBGS(\n",
    "            gflux=gflux, rflux=rflux, zflux=zflux, w1flux=w1flux, w2flux=w2flux,\n",
    "            rfiberflux=ff, gnobs=gnobs, rnobs=rnobs, znobs=znobs,\n",
    "            gfracmasked=gfracmasked, rfracmasked=rfracmasked, zfracmasked=zfracmasked,\n",
    "            gfracflux=gfracflux, rfracflux=rfracflux, zfracflux=zfracflux,\n",
    "            gfracin=gfracin, rfracin=rfracin, zfracin=zfracin,\n",
    "            gfluxivar=gfluxivar, rfluxivar=rfluxivar, zfluxivar=zfluxivar,\n",
    "            maskbits=maskbits, Grr=Grr, w1snr=w1snr, gaiagmag=gaiagmag,\n",
    "            objtype=objtype, primary=prim, targtype=targtype)\n",
    "    else: raise ValueError('%s is not a valid survey programme.' %(survey))\n",
    "                    \n",
    "    return bgs"
   ]
  },
  {
   "cell_type": "markdown",
   "metadata": {},
   "source": [
    "## BGS assess comparison DESITARGET with MYCODE for DR8"
   ]
  },
  {
   "cell_type": "markdown",
   "metadata": {},
   "source": [
    "### MAIN"
   ]
  },
  {
   "cell_type": "code",
   "execution_count": 3,
   "metadata": {
    "collapsed": true,
    "jupyter": {
     "outputs_hidden": true
    }
   },
   "outputs": [
    {
     "name": "stdout",
     "output_type": "stream",
     "text": [
      "---- BGSMASK key: ---- \n",
      "\t BS, 0, 1\n",
      "\t MS, 1, 2\n",
      "\t GC, 2, 4\n",
      "\t LG, 3, 8\n",
      "\t allmask, 4, 16\n",
      "\t nobs, 5, 32\n",
      "\t SG, 6, 64\n",
      "\t SGSV, 7, 128\n",
      "\t FMC, 8, 256\n",
      "\t FMC2, 9, 512\n",
      "\t CC, 10, 1024\n",
      "\t QC_FM, 11, 2048\n",
      "\t QC_FI, 12, 4096\n",
      "\t QC_FF, 13, 8192\n",
      "\t QC_FM2, 14, 16384\n",
      "\t QC_FI2, 15, 32768\n",
      "\t QC_FF2, 16, 65536\n",
      "\t QC_IVAR, 17, 131072\n",
      "\t bgs_any, 20, 1048576\n",
      "\t bgs_bright, 21, 2097152\n",
      "\t bgs_faint, 22, 4194304\n",
      "\t bgs_sv_any, 30, 1073741824\n",
      "\t bgs_sv_bright, 31, 2147483648\n",
      "\t bgs_sv_faint, 32, 4294967296\n",
      "\t bgs_sv_faint_ext, 33, 8589934592\n",
      "\t bgs_sv_fibmag, 34, 17179869184\n",
      "\t bgs_sv_lowq, 35, 34359738368\n",
      "\t bgs_sv_any_wqc, 36, 68719476736\n",
      "\t bgs_sv_lowq_wqc, 37, 137438953472\n",
      "---- Sanity Check ---- \n",
      "\t BS, 3877196, 3877196\n",
      "\t MS, 3833058, 3833058\n",
      "\t GC, 3949441, 3949441\n",
      "\t LG, 3944628, 3944628\n",
      "\t allmask, 3938037, 3938037\n",
      "\t nobs, 3948722, 3948722\n",
      "\t SG, 3766688, 3766688\n",
      "\t SGSV, 3767362, 3767362\n",
      "\t FMC, 3934112, 3934112\n",
      "\t FMC2, 3934643, 3934643\n",
      "\t CC, 3776143, 3776143\n",
      "\t QC_FM, 3916707, 3916707\n",
      "\t QC_FI, 3947746, 3947746\n",
      "\t QC_FF, 3927141, 3927141\n",
      "\t QC_FM2, 3939215, 3939215\n",
      "\t QC_FI2, 3948800, 3948800\n",
      "\t QC_FF2, 3944528, 3944528\n",
      "\t QC_IVAR, 3948524, 3948524\n",
      "\t bgs_any, 65114, 65114\n",
      "\t bgs_bright, 38404, 38404\n",
      "\t bgs_faint, 26710, 26710\n",
      "\t bgs_sv_any, 112697, 112697\n",
      "\t bgs_sv_bright, 39314, 39314\n",
      "\t bgs_sv_faint, 34495, 34495\n",
      "\t bgs_sv_faint_ext, 29968, 29968\n",
      "\t bgs_sv_fibmag, 8603, 8603\n",
      "\t bgs_sv_lowq, 317, 317\n",
      "\t bgs_sv_any_wqc, 112697, 112697\n",
      "\t bgs_sv_lowq_wqc, 1438, 1438\n",
      "Total run time: 42.545585 sec\n"
     ]
    }
   ],
   "source": [
    "#run my bgs script on one sweep brick\n",
    "mastercat = '/global/project/projectdirs/cosmo/data/legacysurvey/dr8/south/sweep/8.0/sweep-190p000-200p005.fits'\n",
    "cat = getBGSbits(mycatpath=mastercat, outdir=None, mycat=True, getmycat=True)"
   ]
  },
  {
   "cell_type": "code",
   "execution_count": 4,
   "metadata": {},
   "outputs": [
    {
     "name": "stdout",
     "output_type": "stream",
     "text": [
      "-------- getting BGS MAIN targets --------\n",
      "-------- getting BGS MAIN targets --------\n"
     ]
    }
   ],
   "source": [
    "#run desitarget on the same sweep brick\n",
    "#see: /global/homes/q/qmxp55/DESI/bgs_main/select_targets_bgs.py\n",
    "#cat1 = fitsio.read('/global/cscratch1/sd/qmxp55/desitarget_output/test_lslga_1.fits/targets/main/resolve/targets-drX-hp-X.fits')\n",
    "cat1b = runtest(rff=True, targtype='bright', primary1=False, file=mastercat)\n",
    "cat1f = runtest(rff=True, targtype='faint', primary1=False, file=mastercat)"
   ]
  },
  {
   "cell_type": "code",
   "execution_count": 7,
   "metadata": {},
   "outputs": [],
   "source": [
    "#bgsf1 = (cat1f['BGS_TARGET'] & 2**(0)) != 0\n",
    "#bgsb1 = (cat1b['BGS_TARGET'] & 2**(1)) != 0\n",
    "\n",
    "bgsb = ((cat['BGSBITS'] & 2**(21)) != 0)\n",
    "bgsf = ((cat['BGSBITS'] & 2**(22)) != 0)\n",
    "bgs = ((cat['BGSBITS'] & 2**(20)) != 0)"
   ]
  },
  {
   "cell_type": "code",
   "execution_count": 8,
   "metadata": {},
   "outputs": [
    {
     "name": "stdout",
     "output_type": "stream",
     "text": [
      "Targ. Dens. of BGS faint: 570.064 (DESITARGET) \t 568.298 (MYCODE)\n",
      "Targ. Dens. of BGS bright: 819.234 (DESITARGET) \t 817.106 (MYCODE)\n"
     ]
    }
   ],
   "source": [
    "print('Targ. Dens. of BGS faint: %.3f (DESITARGET) \\t %.3f (MYCODE)' %(np.sum(cat1f)/47, np.sum(bgsf)/47))\n",
    "print('Targ. Dens. of BGS bright: %.3f (DESITARGET) \\t %.3f (MYCODE)' %(np.sum(cat1b)/47, np.sum(bgsb)/47))"
   ]
  },
  {
   "cell_type": "code",
   "execution_count": 10,
   "metadata": {},
   "outputs": [],
   "source": [
    "def bsleak(cat):\n",
    "    #are we leaking near BS LSLGA galaxies?\n",
    "    BS = (cat['MASKBITS'] & 2**1)!=0\n",
    "    obs = (BS)\n",
    "    print('N:','\\t',np.sum(obs))\n",
    "    print('--------')\n",
    "    \n",
    "    for i in np.where(obs)[0]:\n",
    "        if 'RMAG' not in cat.dtype.names:\n",
    "            rmag = flux_to_mag(cat['FLUX_R']/cat['MW_TRANSMISSION_R'])\n",
    "            print('%s \\t %s \\t %.3f' %(cat['REF_CAT'][i], cat['TYPE'][i], rmag[i]))\n",
    "        else:\n",
    "            print('%s \\t %s \\t %.3f' %(cat['REF_CAT'][i], cat['TYPE'][i], cat['RMAG'][i]))\n"
   ]
  },
  {
   "cell_type": "code",
   "execution_count": 10,
   "metadata": {},
   "outputs": [],
   "source": [
    "cat1 = Table.read(mastercat)"
   ]
  },
  {
   "cell_type": "code",
   "execution_count": 11,
   "metadata": {},
   "outputs": [
    {
     "name": "stdout",
     "output_type": "stream",
     "text": [
      "#LSLGA in whole SWEEP: \t 1275\n",
      "#LSLGA in BGS from MYCAT: \t 1260\n",
      "#LSLGA in BGS from DESITARGET: \t 1260\n"
     ]
    }
   ],
   "source": [
    "#Do we miss the LSLGA in BGS?\n",
    "LXmy = cat['REF_CAT'] == 'L2'\n",
    "LXdt = cat1['REF_CAT'] == 'L2'\n",
    "\n",
    "print('#LSLGA in whole SWEEP: \\t %i' %(np.sum(LXdt)))\n",
    "print('#LSLGA in BGS from MYCAT: \\t %i' %(np.sum((bgs) & (LXmy))))\n",
    "print('#LSLGA in BGS from DESITARGET: \\t %i' %(np.sum(((cat1b) | (cat1f)) & (LXdt))))\n"
   ]
  },
  {
   "cell_type": "code",
   "execution_count": 12,
   "metadata": {},
   "outputs": [
    {
     "name": "stdout",
     "output_type": "stream",
     "text": [
      "N: \t 0\n",
      "--------\n"
     ]
    }
   ],
   "source": [
    "bsleak(cat[bgs])"
   ]
  },
  {
   "cell_type": "code",
   "execution_count": 13,
   "metadata": {},
   "outputs": [
    {
     "name": "stdout",
     "output_type": "stream",
     "text": [
      "N: \t 0\n",
      "--------\n"
     ]
    }
   ],
   "source": [
    "bsleak(cat1[(cat1b) | (cat1f)])"
   ]
  },
  {
   "cell_type": "markdown",
   "metadata": {},
   "source": [
    "### SV"
   ]
  },
  {
   "cell_type": "code",
   "execution_count": 28,
   "metadata": {},
   "outputs": [],
   "source": [
    "catDT = Table.read(mastercat)\n",
    "BSMY = (cat['MASKBITS'] & 2**1)!=0\n",
    "BSDT = (catDT['MASKBITS'] & 2**1)!=0"
   ]
  },
  {
   "cell_type": "code",
   "execution_count": 15,
   "metadata": {},
   "outputs": [
    {
     "name": "stdout",
     "output_type": "stream",
     "text": [
      "-------- getting BGS SV targets --------\n",
      "Targ. Dens. of BGS SV bright: \t 823.149 (DESITARGET) \t 836.468 (MYCODE)\n",
      "galaxies in bright stars bit: \t 0.000 (DESITARGET) \t 0.000 (MYCODE)\n",
      "-------- getting BGS SV targets --------\n",
      "Targ. Dens. of BGS SV faint: \t 723.404 (DESITARGET) \t 733.936 (MYCODE)\n",
      "galaxies in bright stars bit: \t 0.000 (DESITARGET) \t 0.000 (MYCODE)\n",
      "-------- getting BGS SV targets --------\n",
      "Targ. Dens. of BGS SV faint_ext: \t 630.298 (DESITARGET) \t 637.617 (MYCODE)\n",
      "galaxies in bright stars bit: \t 0.000 (DESITARGET) \t 0.000 (MYCODE)\n",
      "-------- getting BGS SV targets --------\n",
      "Targ. Dens. of BGS SV lowq: \t 30.596 (DESITARGET) \t 6.745 (MYCODE)\n",
      "galaxies in bright stars bit: \t 0.000 (DESITARGET) \t 0.000 (MYCODE)\n",
      "-------- getting BGS SV targets --------\n",
      "Targ. Dens. of BGS SV fibmag: \t 181.766 (DESITARGET) \t 183.043 (MYCODE)\n",
      "galaxies in bright stars bit: \t 0.000 (DESITARGET) \t 0.000 (MYCODE)\n"
     ]
    }
   ],
   "source": [
    "keys = [\"bright\", \"faint\", \"faint_ext\", \"lowq\", \"fibmag\"]\n",
    "#keys = [\"lowq\"]\n",
    "for key in keys:\n",
    "    SV_MY = ((cat['BGSBITS'] & 2**(bgsmask()['bgs_sv_'+key])) != 0)\n",
    "    SV_DT = runtest(rff=True, targtype=key, primary1=False, file=mastercat, survey='sv')\n",
    "    print('Targ. Dens. of BGS SV %s: \\t %.3f (DESITARGET) \\t %.3f (MYCODE)' %(key, np.sum(SV_DT)/47, np.sum(SV_MY)/47))\n",
    "    print('galaxies in bright stars bit: \\t %.3f (DESITARGET) \\t %.3f (MYCODE)' %(np.sum((SV_DT) & (BSDT))/47, np.sum((SV_MY) & (BSMY))/47))"
   ]
  },
  {
   "cell_type": "markdown",
   "metadata": {},
   "source": [
    "## BGS assess comparison DESITARGET with MYCODE for DR9"
   ]
  },
  {
   "cell_type": "code",
   "execution_count": 33,
   "metadata": {
    "collapsed": true,
    "jupyter": {
     "outputs_hidden": true
    }
   },
   "outputs": [
    {
     "name": "stdout",
     "output_type": "stream",
     "text": [
      "---- BGSMASK key: ---- \n",
      "\t BS, 0, 1\n",
      "\t MS, 1, 2\n",
      "\t GC, 2, 4\n",
      "\t LG, 3, 8\n",
      "\t allmask, 4, 16\n",
      "\t nobs, 5, 32\n",
      "\t SG, 6, 64\n",
      "\t SGSV, 7, 128\n",
      "\t FMC, 8, 256\n",
      "\t FMC2, 9, 512\n",
      "\t CC, 10, 1024\n",
      "\t QC_FM, 11, 2048\n",
      "\t QC_FI, 12, 4096\n",
      "\t QC_FF, 13, 8192\n",
      "\t QC_FM2, 14, 16384\n",
      "\t QC_FI2, 15, 32768\n",
      "\t QC_FF2, 16, 65536\n",
      "\t QC_IVAR, 17, 131072\n",
      "\t bgs_any, 20, 1048576\n",
      "\t bgs_bright, 21, 2097152\n",
      "\t bgs_faint, 22, 4194304\n",
      "\t bgs_sv_any, 30, 1073741824\n",
      "\t bgs_sv_bright, 31, 2147483648\n",
      "\t bgs_sv_faint, 32, 4294967296\n",
      "\t bgs_sv_faint_ext, 33, 8589934592\n",
      "\t bgs_sv_fibmag, 34, 17179869184\n",
      "\t bgs_sv_lowq, 35, 34359738368\n",
      "---- Sanity Check ---- \n",
      "\t BS, 4122443, 4122443\n",
      "\t MS, 4029139, 4029139\n",
      "\t GC, 4143328, 4143328\n",
      "\t LG, 4132116, 4132116\n",
      "\t allmask, 4131173, 4131173\n",
      "\t nobs, 4142454, 4142454\n",
      "\t SG, 3973822, 3973822\n",
      "\t SGSV, 3975413, 3975413\n",
      "\t FMC, 4128867, 4128867\n",
      "\t FMC2, 4129521, 4129521\n",
      "\t CC, 3951355, 3951355\n",
      "\t QC_FM, 4116211, 4116211\n",
      "\t QC_FI, 4141585, 4141585\n",
      "\t QC_FF, 4030544, 4030544\n",
      "\t QC_FM2, 4133878, 4133878\n",
      "\t QC_FI2, 4142772, 4142772\n",
      "\t QC_FF2, 4089726, 4089726\n",
      "\t QC_IVAR, 4141973, 4141973\n",
      "\t bgs_any, 68740, 68740\n",
      "\t bgs_bright, 40932, 40932\n",
      "\t bgs_faint, 27808, 27808\n",
      "\t bgs_sv_any, 117998, 117998\n",
      "\t bgs_sv_bright, 42274, 42274\n",
      "\t bgs_sv_faint, 36311, 36311\n",
      "\t bgs_sv_faint_ext, 31232, 31232\n",
      "\t bgs_sv_fibmag, 7961, 7961\n",
      "\t bgs_sv_lowq, 1351, 1351\n",
      "Total run time: 53.860522 sec\n"
     ]
    }
   ],
   "source": [
    "#run my bgsconcatenate on one sweep brick\n",
    "mastercat = '/global/cfs/cdirs/cosmo/work/legacysurvey/dr9m/south/sweep/9.0/sweep-200p005-210p010.fits'\n",
    "cat = getBGSbits(mycatpath=mastercat, outdir=None, mycat=True, getmycat=True)"
   ]
  },
  {
   "cell_type": "code",
   "execution_count": 21,
   "metadata": {},
   "outputs": [
    {
     "name": "stdout",
     "output_type": "stream",
     "text": [
      "-------- getting BGS MAIN targets --------\n",
      "-------- getting BGS MAIN targets --------\n"
     ]
    }
   ],
   "source": [
    "#run desitarget on the same sweep brick\n",
    "#see: /global/homes/q/qmxp55/DESI/bgs_main/select_targets_bgs.py\n",
    "#cat1 = fitsio.read('/global/cscratch1/sd/qmxp55/desitarget_output/test_lslga_1.fits/targets/main/resolve/targets-drX-hp-X.fits')\n",
    "cat1b = runtest(rff=True, targtype='bright', primary1=False, file=mastercat)\n",
    "cat1f = runtest(rff=True, targtype='faint', primary1=False, file=mastercat)"
   ]
  },
  {
   "cell_type": "code",
   "execution_count": 26,
   "metadata": {},
   "outputs": [],
   "source": [
    "#bgsf1 = (cat1f['BGS_TARGET'] & 2**(0)) != 0\n",
    "#bgsb1 = (cat1b['BGS_TARGET'] & 2**(1)) != 0\n",
    "\n",
    "bgsb = ((cat['BGSBITS'] & 2**(21)) != 0)\n",
    "bgsf = ((cat['BGSBITS'] & 2**(22)) != 0)\n",
    "bgs = ((cat['BGSBITS'] & 2**(20)) != 0)"
   ]
  },
  {
   "cell_type": "code",
   "execution_count": 6,
   "metadata": {},
   "outputs": [
    {
     "name": "stdout",
     "output_type": "stream",
     "text": [
      "Targ. Dens. of BGS faint: 591.660 (DESITARGET) \t 591.660 (MYCODE)\n",
      "Targ. Dens. of BGS bright: 870.894 (DESITARGET) \t 870.894 (MYCODE)\n"
     ]
    }
   ],
   "source": [
    "print('Targ. Dens. of BGS faint: %.3f (DESITARGET) \\t %.3f (MYCODE)' %(np.sum(cat1f)/47, np.sum(bgsf)/47))\n",
    "print('Targ. Dens. of BGS bright: %.3f (DESITARGET) \\t %.3f (MYCODE)' %(np.sum(cat1b)/47, np.sum(bgsb)/47))"
   ]
  },
  {
   "cell_type": "code",
   "execution_count": 7,
   "metadata": {},
   "outputs": [],
   "source": [
    "cat1 = Table.read(mastercat)"
   ]
  },
  {
   "cell_type": "code",
   "execution_count": 8,
   "metadata": {},
   "outputs": [
    {
     "name": "stdout",
     "output_type": "stream",
     "text": [
      "#LSLGA in whole SWEEP: \t 0\n",
      "#LSLGA in BGS from MYCAT: \t 0\n",
      "#LSLGA in BGS from DESITARGET: \t 0\n"
     ]
    }
   ],
   "source": [
    "#Do we miss the LSLGA in BGS?\n",
    "LXmy = cat['REF_CAT'] == 'L4'\n",
    "LXdt = cat1['REF_CAT'] == 'L4'\n",
    "\n",
    "print('#LSLGA in whole SWEEP: \\t %i' %(np.sum(LXdt)))\n",
    "print('#LSLGA in BGS from MYCAT: \\t %i' %(np.sum((bgs) & (LXmy))))\n",
    "print('#LSLGA in BGS from DESITARGET: \\t %i' %(np.sum(((cat1b) | (cat1f)) & (LXdt))))\n"
   ]
  },
  {
   "cell_type": "code",
   "execution_count": 11,
   "metadata": {},
   "outputs": [
    {
     "name": "stdout",
     "output_type": "stream",
     "text": [
      "N: \t 0\n",
      "--------\n"
     ]
    }
   ],
   "source": [
    "bsleak(cat[bgs])"
   ]
  },
  {
   "cell_type": "code",
   "execution_count": 12,
   "metadata": {},
   "outputs": [
    {
     "name": "stdout",
     "output_type": "stream",
     "text": [
      "N: \t 0\n",
      "--------\n"
     ]
    }
   ],
   "source": [
    "bsleak(cat1[(cat1b) | (cat1f)])"
   ]
  },
  {
   "cell_type": "markdown",
   "metadata": {},
   "source": [
    "### SV"
   ]
  },
  {
   "cell_type": "code",
   "execution_count": 34,
   "metadata": {},
   "outputs": [],
   "source": [
    "catDT = Table.read(mastercat)\n",
    "BSMY = (cat['MASKBITS'] & 2**1)!=0\n",
    "BSDT = (catDT['MASKBITS'] & 2**1)!=0"
   ]
  },
  {
   "cell_type": "code",
   "execution_count": 36,
   "metadata": {},
   "outputs": [
    {
     "name": "stdout",
     "output_type": "stream",
     "text": [
      "-------- getting BGS SV targets --------\n",
      "Targ. Dens. of BGS SV lowq: \t 28.745 (DESITARGET) \t 28.745 (MYCODE)\n",
      "galaxies in bright stars bit: \t 0.000 (DESITARGET) \t 0.000 (MYCODE)\n",
      "-------- getting BGS SV targets --------\n",
      "Targ. Dens. of BGS SV fibmag: \t 169.383 (DESITARGET) \t 169.383 (MYCODE)\n",
      "galaxies in bright stars bit: \t 0.000 (DESITARGET) \t 0.000 (MYCODE)\n"
     ]
    }
   ],
   "source": [
    "#keys = [\"bright\", \"faint\", \"faint_ext\", \"lowq\", \"fibmag\"]\n",
    "keys = [\"lowq\", \"fibmag\"]\n",
    "for key in keys:\n",
    "    SV_MY = ((cat['BGSBITS'] & 2**(bgsmask()['bgs_sv_'+key])) != 0)\n",
    "    SV_DT = runtest(rff=True, targtype=key, primary1=False, file=mastercat, survey='sv')\n",
    "    print('Targ. Dens. of BGS SV %s: \\t %.3f (DESITARGET) \\t %.3f (MYCODE)' %(key, np.sum(SV_DT)/47, np.sum(SV_MY)/47))\n",
    "    print('galaxies in bright stars bit: \\t %.3f (DESITARGET) \\t %.3f (MYCODE)' %(np.sum((SV_DT) & (BSDT))/47, np.sum((SV_MY) & (BSMY))/47))"
   ]
  },
  {
   "cell_type": "code",
   "execution_count": null,
   "metadata": {},
   "outputs": [],
   "source": []
  }
 ],
 "metadata": {
  "kernelspec": {
   "display_name": "BGS",
   "language": "python",
   "name": "desi_bgs_omar"
  },
  "language_info": {
   "codemirror_mode": {
    "name": "ipython",
    "version": 3
   },
   "file_extension": ".py",
   "mimetype": "text/x-python",
   "name": "python",
   "nbconvert_exporter": "python",
   "pygments_lexer": "ipython3",
   "version": "3.7.3"
  }
 },
 "nbformat": 4,
 "nbformat_minor": 4
}
