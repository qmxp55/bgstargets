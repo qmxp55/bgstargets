{
 "cells": [
  {
   "cell_type": "code",
   "execution_count": 1,
   "metadata": {},
   "outputs": [],
   "source": [
    "#\n",
    "import numpy as np\n",
    "import matplotlib.pyplot as plt\n",
    "import fitsio\n",
    "import os\n",
    "import sys\n",
    "\n",
    "sys.path.insert(0, '/global/homes/q/qmxp55/DESI/bgstargets/py')\n",
    "\n",
    "from io_ import get_sweep_whole, match_coord"
   ]
  },
  {
   "cell_type": "markdown",
   "metadata": {},
   "source": [
    "# Load GAMA DR4"
   ]
  },
  {
   "cell_type": "code",
   "execution_count": 2,
   "metadata": {},
   "outputs": [
    {
     "name": "stdout",
     "output_type": "stream",
     "text": [
      "fraction of gama good quality: 186137 / 221373\n",
      "Percentage of Galaxies in GAMA Main Sample (z > 0.002): 98.07 %\n",
      "Percentage of Stars in GAMA Main Sample (z < 0.002): 1.93 %\n"
     ]
    }
   ],
   "source": [
    "gama_ = fitsio.read('/global/cscratch1/sd/qmxp55/TilingCatv46.fits', ext=1)\n",
    "# get only good quality gama objects\n",
    "gama = gama_[(gama_['SURVEY_CLASS'] >= 4) & (gama_['NQ'] >= 3)]\n",
    "print('fraction of gama good quality: %i / %i' %(len(gama), len(gama_)))\n",
    "\n",
    "#get rid of stars in GAMA\n",
    "Ngama = len(gama)\n",
    "print('Percentage of Galaxies in GAMA Main Sample (z > 0.002): %.2f %%' %(100 * np.sum(gama['Z'] > 0.002)/Ngama))\n",
    "print('Percentage of Stars in GAMA Main Sample (z < 0.002): %.2f %%' %(100 * np.sum(gama['Z'] < 0.002)/Ngama))\n",
    "\n",
    "#\n",
    "gama0 = gama #Include stars and galaxies in GAMA\n",
    "gama = gama0[gama0['Z'] > 0.002] #Include only galaxies in GAMA\n"
   ]
  },
  {
   "cell_type": "markdown",
   "metadata": {},
   "source": [
    "# Load DR8 SWEEPS for GAMA footprint only (G12, G15, G09)"
   ]
  },
  {
   "cell_type": "code",
   "execution_count": 9,
   "metadata": {
    "collapsed": true,
    "jupyter": {
     "outputs_hidden": true
    }
   },
   "outputs": [
    {
     "name": "stdout",
     "output_type": "stream",
     "text": [
      "--------- OPTION 2 ---------\n"
     ]
    },
    {
     "name": "stderr",
     "output_type": "stream",
     "text": [
      "\u001b[32mProgress...\u001b[39mN/A%|                                                    |"
     ]
    },
    {
     "name": "stdout",
     "output_type": "stream",
     "text": [
      "/global/project/projectdirs/cosmo/data/legacysurvey/dr8/south/sweep/8.0/sweep-170m005-180p000.fits\n",
      "/global/project/projectdirs/cosmo/data/legacysurvey/dr8/south/sweep/8.0/sweep-170p000-180p005.fits\n",
      "/global/project/projectdirs/cosmo/data/legacysurvey/dr8/south/sweep/8.0/sweep-180m005-190p000.fits\n",
      "/global/project/projectdirs/cosmo/data/legacysurvey/dr8/south/sweep/8.0/sweep-180p000-190p005.fits\n",
      "Total bricks found: \t 4\n"
     ]
    },
    {
     "name": "stderr",
     "output_type": "stream",
     "text": [
      "\u001b[32mProgress...\u001b[39m100%|####################################################|"
     ]
    },
    {
     "name": "stdout",
     "output_type": "stream",
     "text": [
      "Total run time: 31.542136 sec\n"
     ]
    },
    {
     "name": "stderr",
     "output_type": "stream",
     "text": [
      "/global/homes/q/qmxp55/DESI/bgstargets/py/io_.py:589: RuntimeWarning: divide by zero encountered in log10\n",
      "  mag = 22.5 - 2.5*np.log10(flux)\n",
      "/global/homes/q/qmxp55/DESI/bgstargets/py/io_.py:589: RuntimeWarning: invalid value encountered in log10\n",
      "  mag = 22.5 - 2.5*np.log10(flux)\n",
      "/global/homes/q/qmxp55/DESI/bgstargets/py/cuts.py:159: RuntimeWarning: divide by zero encountered in log10\n",
      "  mag = 22.5 - 2.5*np.log10(flux)\n",
      "/global/homes/q/qmxp55/DESI/bgstargets/py/cuts.py:159: RuntimeWarning: invalid value encountered in log10\n",
      "  mag = 22.5 - 2.5*np.log10(flux)\n",
      "/global/homes/q/qmxp55/DESI/bgstargets/py/cuts.py:231: RuntimeWarning: divide by zero encountered in log10\n",
      "  Grr = gaiagmag - 22.5 + 2.5*np.log10(fluxr)\n",
      "/global/homes/q/qmxp55/DESI/bgstargets/py/cuts.py:231: RuntimeWarning: invalid value encountered in log10\n",
      "  Grr = gaiagmag - 22.5 + 2.5*np.log10(fluxr)\n",
      "/global/homes/q/qmxp55/DESI/bgstargets/py/cuts.py:233: RuntimeWarning: invalid value encountered in less\n",
      "  GAIA_STAR &= (Grr  <  0.6) & (gaiagmag != 0)\n",
      "/global/homes/q/qmxp55/DESI/bgstargets/py/cuts.py:239: RuntimeWarning: divide by zero encountered in log10\n",
      "  Grr = gaiagmag - 22.5 + 2.5*np.log10(fluxr)\n",
      "/global/homes/q/qmxp55/DESI/bgstargets/py/cuts.py:239: RuntimeWarning: invalid value encountered in log10\n",
      "  Grr = gaiagmag - 22.5 + 2.5*np.log10(fluxr)\n",
      "/global/homes/q/qmxp55/DESI/bgstargets/py/cuts.py:241: RuntimeWarning: invalid value encountered in greater\n",
      "  GAIA_GAL &= (Grr  >  0.6) | (gaiagmag == 0)\n",
      "/global/homes/q/qmxp55/DESI/bgstargets/py/cuts.py:247: RuntimeWarning: divide by zero encountered in log10\n",
      "  Grr = gaiagmag - 22.5 + 2.5*np.log10(fluxr)\n",
      "/global/homes/q/qmxp55/DESI/bgstargets/py/cuts.py:247: RuntimeWarning: invalid value encountered in log10\n",
      "  Grr = gaiagmag - 22.5 + 2.5*np.log10(fluxr)\n",
      "/global/homes/q/qmxp55/DESI/bgstargets/py/cuts.py:249: RuntimeWarning: invalid value encountered in greater\n",
      "  GAIA_GAL &= ((Grr  >  0.6) | (gaiagmag == 0)) | ((Grr < 0.6) & (~psflike) & (gaiagmag != 0))\n",
      "/global/homes/q/qmxp55/DESI/bgstargets/py/cuts.py:249: RuntimeWarning: invalid value encountered in less\n",
      "  GAIA_GAL &= ((Grr  >  0.6) | (gaiagmag == 0)) | ((Grr < 0.6) & (~psflike) & (gaiagmag != 0))\n",
      "/global/homes/q/qmxp55/DESI/bgstargets/py/cuts.py:88: RuntimeWarning: invalid value encountered in less\n",
      "  FMC |= ((rfibmag < (2.9 + 1.2) + rmag) & (rmag < 17.1))\n",
      "/global/homes/q/qmxp55/DESI/bgstargets/py/cuts.py:89: RuntimeWarning: invalid value encountered in less\n",
      "  FMC |= ((rfibmag < 21.2) & (rmag < 18.3) & (rmag > 17.1))\n",
      "/global/homes/q/qmxp55/DESI/bgstargets/py/cuts.py:89: RuntimeWarning: invalid value encountered in greater\n",
      "  FMC |= ((rfibmag < 21.2) & (rmag < 18.3) & (rmag > 17.1))\n",
      "/global/homes/q/qmxp55/DESI/bgstargets/py/cuts.py:90: RuntimeWarning: invalid value encountered in less\n",
      "  FMC |= ((rfibmag < 2.9 + rmag) & (rmag > 18.3))\n",
      "/global/homes/q/qmxp55/DESI/bgstargets/py/cuts.py:90: RuntimeWarning: invalid value encountered in greater\n",
      "  FMC |= ((rfibmag < 2.9 + rmag) & (rmag > 18.3))\n",
      "/global/homes/q/qmxp55/DESI/bgstargets/py/cuts.py:94: RuntimeWarning: invalid value encountered in less\n",
      "  FMC2 |= ((rfibmag < (2.9 + 1.2 + delta) + rmag) & (rmag < 18.8 - delta))\n",
      "/global/homes/q/qmxp55/DESI/bgstargets/py/cuts.py:95: RuntimeWarning: invalid value encountered in less\n",
      "  FMC2 |= ((rfibmag < 22.9) & (rmag < 20) & (rmag > 18.8 - delta))\n",
      "/global/homes/q/qmxp55/DESI/bgstargets/py/cuts.py:95: RuntimeWarning: invalid value encountered in greater\n",
      "  FMC2 |= ((rfibmag < 22.9) & (rmag < 20) & (rmag > 18.8 - delta))\n",
      "/global/homes/q/qmxp55/DESI/bgstargets/py/cuts.py:96: RuntimeWarning: invalid value encountered in less\n",
      "  FMC2 |= ((rfibmag < 2.9 + rmag) & (rmag > 20))\n",
      "/global/homes/q/qmxp55/DESI/bgstargets/py/cuts.py:96: RuntimeWarning: invalid value encountered in greater\n",
      "  FMC2 |= ((rfibmag < 2.9 + rmag) & (rmag > 20))\n",
      "/global/homes/q/qmxp55/DESI/bgstargets/py/cuts.py:99: RuntimeWarning: invalid value encountered in subtract\n",
      "  CC &= ((gmag - rmag) > -1.)\n",
      "/global/homes/q/qmxp55/DESI/bgstargets/py/cuts.py:99: RuntimeWarning: invalid value encountered in greater\n",
      "  CC &= ((gmag - rmag) > -1.)\n",
      "/global/homes/q/qmxp55/DESI/bgstargets/py/cuts.py:100: RuntimeWarning: invalid value encountered in subtract\n",
      "  CC &= ((gmag - rmag) < 4.)\n",
      "/global/homes/q/qmxp55/DESI/bgstargets/py/cuts.py:100: RuntimeWarning: invalid value encountered in less\n",
      "  CC &= ((gmag - rmag) < 4.)\n",
      "/global/homes/q/qmxp55/DESI/bgstargets/py/cuts.py:101: RuntimeWarning: invalid value encountered in subtract\n",
      "  CC &= ((rmag - zmag) > -1.)\n",
      "/global/homes/q/qmxp55/DESI/bgstargets/py/cuts.py:101: RuntimeWarning: invalid value encountered in greater\n",
      "  CC &= ((rmag - zmag) > -1.)\n",
      "/global/homes/q/qmxp55/DESI/bgstargets/py/cuts.py:102: RuntimeWarning: invalid value encountered in subtract\n",
      "  CC &= ((rmag - zmag) < 4.)\n",
      "/global/homes/q/qmxp55/DESI/bgstargets/py/cuts.py:102: RuntimeWarning: invalid value encountered in less\n",
      "  CC &= ((rmag - zmag) < 4.)\n"
     ]
    },
    {
     "name": "stdout",
     "output_type": "stream",
     "text": [
      "---- BGSMASK key: ---- \n",
      "\t BS, 0, 1\n",
      "\t MS, 1, 2\n",
      "\t GC, 2, 4\n",
      "\t LG, 3, 8\n",
      "\t allmask, 4, 16\n",
      "\t nobs, 5, 32\n",
      "\t SG, 6, 64\n",
      "\t SGSV, 7, 128\n",
      "\t FMC, 8, 256\n",
      "\t FMC2, 9, 512\n",
      "\t CC, 10, 1024\n",
      "\t QC_FM, 11, 2048\n",
      "\t QC_FI, 12, 4096\n",
      "\t QC_FF, 13, 8192\n",
      "\t QC_FM2, 14, 16384\n",
      "\t QC_FI2, 15, 32768\n",
      "\t QC_FF2, 16, 65536\n",
      "\t QC_IVAR, 17, 131072\n"
     ]
    },
    {
     "name": "stderr",
     "output_type": "stream",
     "text": [
      "/global/homes/q/qmxp55/DESI/bgstargets/py/cuts.py:182: RuntimeWarning: invalid value encountered in less\n",
      "  bgs_bright = (bgs) & (rmag < 19.5)\n",
      "/global/homes/q/qmxp55/DESI/bgstargets/py/cuts.py:183: RuntimeWarning: invalid value encountered in greater\n",
      "  bgs_faint = (bgs) & (rmag > 19.5) & (rmag < 20.0)\n",
      "/global/homes/q/qmxp55/DESI/bgstargets/py/cuts.py:183: RuntimeWarning: invalid value encountered in less\n",
      "  bgs_faint = (bgs) & (rmag > 19.5) & (rmag < 20.0)\n",
      "/global/homes/q/qmxp55/DESI/bgstargets/py/cuts.py:220: RuntimeWarning: invalid value encountered in less\n",
      "  bgs_sv_bright = (bgs_sv) & (rmag < 19.5)\n",
      "/global/homes/q/qmxp55/DESI/bgstargets/py/cuts.py:221: RuntimeWarning: invalid value encountered in greater_equal\n",
      "  bgs_sv_faint = (bgs_sv) & (rmag >= 19.5) & (rmag < 20.1)\n",
      "/global/homes/q/qmxp55/DESI/bgstargets/py/cuts.py:221: RuntimeWarning: invalid value encountered in less\n",
      "  bgs_sv_faint = (bgs_sv) & (rmag >= 19.5) & (rmag < 20.1)\n",
      "/global/homes/q/qmxp55/DESI/bgstargets/py/cuts.py:222: RuntimeWarning: invalid value encountered in greater_equal\n",
      "  bgs_sv_faint_ext = (bgs_sv) & (rmag >= 20.1) & (rmag < 20.5) & (rfibmag > 21.0511)\n",
      "/global/homes/q/qmxp55/DESI/bgstargets/py/cuts.py:222: RuntimeWarning: invalid value encountered in less\n",
      "  bgs_sv_faint_ext = (bgs_sv) & (rmag >= 20.1) & (rmag < 20.5) & (rfibmag > 21.0511)\n",
      "/global/homes/q/qmxp55/DESI/bgstargets/py/cuts.py:223: RuntimeWarning: invalid value encountered in greater_equal\n",
      "  bgs_sv_fibmag = (bgs_sv) & (rmag >= 20.1) & (rfibmag < 21.0511)\n",
      "/global/homes/q/qmxp55/DESI/bgstargets/py/cuts.py:224: RuntimeWarning: invalid value encountered in less\n",
      "  bgs_sv_lowq &= (rmag < 20.1)\n"
     ]
    },
    {
     "name": "stdout",
     "output_type": "stream",
     "text": [
      "\t bgs_any, 20, 1048576\n",
      "\t bgs_bright, 21, 2097152\n",
      "\t bgs_faint, 22, 4194304\n",
      "\t bgs_sv_any, 30, 1073741824\n",
      "\t bgs_sv_bright, 31, 2147483648\n",
      "\t bgs_sv_faint, 32, 4294967296\n",
      "\t bgs_sv_faint_ext, 33, 8589934592\n",
      "\t bgs_sv_fibmag, 34, 17179869184\n",
      "\t bgs_sv_lowq, 35, 34359738368\n",
      "---- Sanity Check ---- \n",
      "\t BS, 4572639, 4572639\n",
      "\t MS, 4519463, 4519463\n",
      "\t GC, 4655548, 4655548\n",
      "\t LG, 4652537, 4652537\n",
      "\t allmask, 4637094, 4637094\n",
      "\t nobs, 4650499, 4650499\n",
      "\t SG, 4451736, 4451736\n",
      "\t SGSV, 4452439, 4452439\n",
      "\t FMC, 4633586, 4633586\n",
      "\t FMC2, 4634254, 4634254\n",
      "\t CC, 4450208, 4450208\n",
      "\t QC_FM, 4616786, 4616786\n",
      "\t QC_FI, 4649039, 4649039\n",
      "\t QC_FF, 4627223, 4627223\n",
      "\t QC_FM2, 4642366, 4642366\n",
      "\t QC_FI2, 4653899, 4653899\n",
      "\t QC_FF2, 4648672, 4648672\n",
      "\t QC_IVAR, 4652108, 4652108\n",
      "\t bgs_any, 87527, 87527\n",
      "\t bgs_bright, 51762, 51762\n",
      "\t bgs_faint, 35765, 35765\n",
      "\t bgs_sv_any, 149230, 149230\n",
      "\t bgs_sv_bright, 52093, 52093\n",
      "\t bgs_sv_faint, 45441, 45441\n",
      "\t bgs_sv_faint_ext, 38045, 38045\n",
      "\t bgs_sv_fibmag, 11443, 11443\n",
      "\t bgs_sv_lowq, 2208, 2208\n",
      "/global/cscratch1/sd/qmxp55/bgstargets_output/dr8-south_sweep_174.0_186.0_-3.0_2.0\n"
     ]
    },
    {
     "name": "stderr",
     "output_type": "stream",
     "text": [
      "\u001b[32mProgress...\u001b[39mN/A%|                                                    |"
     ]
    },
    {
     "name": "stdout",
     "output_type": "stream",
     "text": [
      "Total run time: 80.095720 sec\n",
      "--------- OPTION 2 ---------\n",
      "/global/project/projectdirs/cosmo/data/legacysurvey/dr8/south/sweep/8.0/sweep-210m005-220p000.fits\n",
      "/global/project/projectdirs/cosmo/data/legacysurvey/dr8/south/sweep/8.0/sweep-210p000-220p005.fits\n",
      "/global/project/projectdirs/cosmo/data/legacysurvey/dr8/south/sweep/8.0/sweep-220m005-230p000.fits\n",
      "/global/project/projectdirs/cosmo/data/legacysurvey/dr8/south/sweep/8.0/sweep-220p000-230p005.fits\n",
      "Total bricks found: \t 4\n"
     ]
    },
    {
     "name": "stderr",
     "output_type": "stream",
     "text": [
      "\u001b[32mProgress...\u001b[39m100%|####################################################|"
     ]
    },
    {
     "name": "stdout",
     "output_type": "stream",
     "text": [
      "Total run time: 34.815731 sec\n",
      "---- BGSMASK key: ---- \n",
      "\t BS, 0, 1\n",
      "\t MS, 1, 2\n",
      "\t GC, 2, 4\n",
      "\t LG, 3, 8\n",
      "\t allmask, 4, 16\n",
      "\t nobs, 5, 32\n",
      "\t SG, 6, 64\n",
      "\t SGSV, 7, 128\n",
      "\t FMC, 8, 256\n",
      "\t FMC2, 9, 512\n",
      "\t CC, 10, 1024\n",
      "\t QC_FM, 11, 2048\n",
      "\t QC_FI, 12, 4096\n",
      "\t QC_FF, 13, 8192\n",
      "\t QC_FM2, 14, 16384\n",
      "\t QC_FI2, 15, 32768\n",
      "\t QC_FF2, 16, 65536\n",
      "\t QC_IVAR, 17, 131072\n",
      "\t bgs_any, 20, 1048576\n",
      "\t bgs_bright, 21, 2097152\n",
      "\t bgs_faint, 22, 4194304\n",
      "\t bgs_sv_any, 30, 1073741824\n",
      "\t bgs_sv_bright, 31, 2147483648\n",
      "\t bgs_sv_faint, 32, 4294967296\n",
      "\t bgs_sv_faint_ext, 33, 8589934592\n",
      "\t bgs_sv_fibmag, 34, 17179869184\n",
      "\t bgs_sv_lowq, 35, 34359738368\n",
      "---- Sanity Check ---- \n",
      "\t BS, 4840705, 4840705\n",
      "\t MS, 4767024, 4767024\n",
      "\t GC, 4944337, 4944337\n",
      "\t LG, 4941178, 4941178\n",
      "\t allmask, 4921628, 4921628\n",
      "\t nobs, 4940768, 4940768\n",
      "\t SG, 4651266, 4651266\n",
      "\t SGSV, 4651921, 4651921\n",
      "\t FMC, 4921643, 4921643\n",
      "\t FMC2, 4922412, 4922412\n",
      "\t CC, 4725960, 4725960\n",
      "\t QC_FM, 4892983, 4892983\n",
      "\t QC_FI, 4939677, 4939677\n",
      "\t QC_FF, 4909311, 4909311\n",
      "\t QC_FM2, 4928293, 4928293\n",
      "\t QC_FI2, 4943598, 4943598\n",
      "\t QC_FF2, 4936663, 4936663\n",
      "\t QC_IVAR, 4941534, 4941534\n",
      "\t bgs_any, 85344, 85344\n",
      "\t bgs_bright, 50506, 50506\n",
      "\t bgs_faint, 34838, 34838\n",
      "\t bgs_sv_any, 148674, 148674\n",
      "\t bgs_sv_bright, 50771, 50771\n",
      "\t bgs_sv_faint, 44350, 44350\n",
      "\t bgs_sv_faint_ext, 36917, 36917\n",
      "\t bgs_sv_fibmag, 14456, 14456\n",
      "\t bgs_sv_lowq, 2180, 2180\n",
      "/global/cscratch1/sd/qmxp55/bgstargets_output/dr8-south_sweep_211.5_223.5_-2.0_3.0\n"
     ]
    },
    {
     "name": "stderr",
     "output_type": "stream",
     "text": [
      "\u001b[32mProgress...\u001b[39mN/A%|                                                    |"
     ]
    },
    {
     "name": "stdout",
     "output_type": "stream",
     "text": [
      "Total run time: 81.901674 sec\n",
      "--------- OPTION 2 ---------\n",
      "/global/project/projectdirs/cosmo/data/legacysurvey/dr8/south/sweep/8.0/sweep-120m005-130p000.fits\n",
      "/global/project/projectdirs/cosmo/data/legacysurvey/dr8/south/sweep/8.0/sweep-120p000-130p005.fits\n",
      "/global/project/projectdirs/cosmo/data/legacysurvey/dr8/south/sweep/8.0/sweep-130m005-140p000.fits\n",
      "/global/project/projectdirs/cosmo/data/legacysurvey/dr8/south/sweep/8.0/sweep-130p000-140p005.fits\n",
      "/global/project/projectdirs/cosmo/data/legacysurvey/dr8/south/sweep/8.0/sweep-140m005-150p000.fits\n",
      "/global/project/projectdirs/cosmo/data/legacysurvey/dr8/south/sweep/8.0/sweep-140p000-150p005.fits\n",
      "Total bricks found: \t 6\n"
     ]
    },
    {
     "name": "stderr",
     "output_type": "stream",
     "text": [
      "\u001b[32mProgress...\u001b[39m100%|####################################################|"
     ]
    },
    {
     "name": "stdout",
     "output_type": "stream",
     "text": [
      "Total run time: 45.919606 sec\n",
      "---- BGSMASK key: ---- \n",
      "\t BS, 0, 1\n",
      "\t MS, 1, 2\n",
      "\t GC, 2, 4\n",
      "\t LG, 3, 8\n",
      "\t allmask, 4, 16\n",
      "\t nobs, 5, 32\n",
      "\t SG, 6, 64\n",
      "\t SGSV, 7, 128\n",
      "\t FMC, 8, 256\n",
      "\t FMC2, 9, 512\n",
      "\t CC, 10, 1024\n",
      "\t QC_FM, 11, 2048\n",
      "\t QC_FI, 12, 4096\n",
      "\t QC_FF, 13, 8192\n",
      "\t QC_FM2, 14, 16384\n",
      "\t QC_FI2, 15, 32768\n",
      "\t QC_FF2, 16, 65536\n",
      "\t QC_IVAR, 17, 131072\n",
      "\t bgs_any, 20, 1048576\n",
      "\t bgs_bright, 21, 2097152\n",
      "\t bgs_faint, 22, 4194304\n",
      "\t bgs_sv_any, 30, 1073741824\n",
      "\t bgs_sv_bright, 31, 2147483648\n",
      "\t bgs_sv_faint, 32, 4294967296\n",
      "\t bgs_sv_faint_ext, 33, 8589934592\n",
      "\t bgs_sv_fibmag, 34, 17179869184\n",
      "\t bgs_sv_lowq, 35, 34359738368\n",
      "---- Sanity Check ---- \n",
      "\t BS, 4774710, 4774710\n",
      "\t MS, 4637904, 4637904\n",
      "\t GC, 4945759, 4945759\n",
      "\t LG, 4943764, 4943764\n",
      "\t allmask, 4915202, 4915202\n",
      "\t nobs, 4945343, 4945343\n",
      "\t SG, 4550334, 4550334\n",
      "\t SGSV, 4551188, 4551188\n",
      "\t FMC, 4923813, 4923813\n",
      "\t FMC2, 4924422, 4924422\n",
      "\t CC, 4724403, 4724403\n",
      "\t QC_FM, 4871915, 4871915\n",
      "\t QC_FI, 4944134, 4944134\n",
      "\t QC_FF, 4901259, 4901259\n",
      "\t QC_FM2, 4913048, 4913048\n",
      "\t QC_FI2, 4945203, 4945203\n",
      "\t QC_FF2, 4933109, 4933109\n",
      "\t QC_IVAR, 4945196, 4945196\n",
      "\t bgs_any, 84102, 84102\n",
      "\t bgs_bright, 48252, 48252\n",
      "\t bgs_faint, 35850, 35850\n",
      "\t bgs_sv_any, 147463, 147463\n",
      "\t bgs_sv_bright, 48545, 48545\n",
      "\t bgs_sv_faint, 45551, 45551\n",
      "\t bgs_sv_faint_ext, 37991, 37991\n",
      "\t bgs_sv_fibmag, 12944, 12944\n",
      "\t bgs_sv_lowq, 2432, 2432\n",
      "/global/cscratch1/sd/qmxp55/bgstargets_output/dr8-south_sweep_129.0_141.0_-2.0_3.0\n",
      "Total run time: 85.133430 sec\n"
     ]
    }
   ],
   "source": [
    "#\n",
    "def gama12():\n",
    "    \n",
    "    return [174., 186., -3., 2.]\n",
    "\n",
    "def gama15():\n",
    "    \n",
    "    return [211.5, 223.5, -2., 3.]\n",
    "\n",
    "def gama09():\n",
    "    \n",
    "    return [129., 141., -2., 3.]\n",
    "\n",
    "# load catalogue\n",
    "# this is dr8 sweeps in decals with BGSBITS \n",
    "\n",
    "\n",
    "dr = 'dr8-south'\n",
    "#dir where we are going to stored the results\n",
    "pathdir = '/global/homes/q/qmxp55/DESI/bgs_main/bgs_main_%s_matches/' %(dr)\n",
    "#if results dir does not exist, create it\n",
    "ispathdir = os.path.isdir(pathdir)\n",
    "if not ispathdir: os.mkdir(pathdir)\n",
    "    \n",
    "#get sweeps for GAMA footprint\n",
    "lsin12 =  get_sweep_whole(patch=gama12(), dr=dr, rlimit=None, maskbitsource=False, bgsbits=True, opt='2')\n",
    "lsin15 =  get_sweep_whole(patch=gama15(), dr=dr, rlimit=None, maskbitsource=False, bgsbits=True, opt='2')\n",
    "lsin09 =  get_sweep_whole(patch=gama09(), dr=dr, rlimit=None, maskbitsource=False, bgsbits=True, opt='2')\n",
    "\n",
    "# merge the SWEEPS in GAMA fileds targets in a single data frame\n",
    "cat = np.concatenate((lsin12, lsin15, lsin09))\n"
   ]
  },
  {
   "cell_type": "markdown",
   "metadata": {},
   "source": [
    "# Match catalogues"
   ]
  },
  {
   "cell_type": "code",
   "execution_count": 10,
   "metadata": {},
   "outputs": [],
   "source": [
    "#\n",
    "def match(gama=None, cat=None):\n",
    "    \n",
    "    # matching LS8 with gama stars and galaxies\n",
    "    idx2, idx1, d2d, d_ra, d_dec = match_coord(cat['RA'], cat['DEC'], \n",
    "                                                                gama['RA'], gama['DEC'], search_radius=1)\n",
    "\n",
    "    # LS DR8 matched with gama\n",
    "    dr8_gama = np.zeros_like(cat['RA'], dtype='?') #dr8 that match with gama\n",
    "    dr8_z = np.full_like(cat['RA'], -1) #z from gama\n",
    "\n",
    "    dr8_gama[idx2.tolist()] = True\n",
    "    dr8_z[idx2.tolist()] = gama['Z'][idx1]\n",
    "    \n",
    "    return dr8_gama, dr8_z\n"
   ]
  },
  {
   "cell_type": "code",
   "execution_count": 11,
   "metadata": {},
   "outputs": [
    {
     "name": "stdout",
     "output_type": "stream",
     "text": [
      "Doubly matched objects = 2\n",
      "Final matched objects = 181919\n",
      "fraction of bgs in dr8-south within GAMA: 256973 / 14545644\n"
     ]
    }
   ],
   "source": [
    "#\n",
    "dr8_gama, dr8_z = match(gama, cat)\n",
    "#get BGS targets\n",
    "bgs = ((cat['BGSBITS'] & 2**(20)) != 0) #| (L2) #adding the LSLGA galaxies\n",
    "print('fraction of bgs in %s within GAMA: %i / %i' %(dr, np.sum(bgs), len(cat)))\n"
   ]
  },
  {
   "cell_type": "code",
   "execution_count": 28,
   "metadata": {},
   "outputs": [
    {
     "name": "stdout",
     "output_type": "stream",
     "text": [
      "mean: \t 0.2243 (all) \t 0.2155 (bright) \t 0.2653 (faint)\n"
     ]
    },
    {
     "data": {
      "image/png": "[encoded data removed]",
      "text/plain": [
       "<Figure size 720x432 with 1 Axes>"
      ]
     },
     "metadata": {
      "needs_background": "light"
     },
     "output_type": "display_data"
    }
   ],
   "source": [
    "#\n",
    "fig = plt.figure(figsize=(10,6))\n",
    "\n",
    "N = np.sum((dr8_gama) & (bgs))\n",
    "cumu = False\n",
    "Ared = 175\n",
    "\n",
    "mask = (dr8_gama) & (dr8_z > 0) & (dr8_z < 0.8) & (bgs)\n",
    "maskB = (dr8_gama) & (dr8_z > 0) & (dr8_z < 0.8) & (cat['RMAG'] < 19.5) & (bgs)\n",
    "maskF = (dr8_gama) & (dr8_z > 0) & (dr8_z < 0.8) & (cat['RMAG'] > 19.5) & (cat['RMAG'] < 20.) & (bgs)\n",
    "bins = np.linspace(0,0.6,30)\n",
    "\n",
    "#plt.title(r'BGS cross-matched with GAMA DR3', size=18)\n",
    "h,e,p = plt.hist(dr8_z[mask], bins=bins,  weights=np.full(np.sum(mask), 1/Ared), histtype='step', cumulative=cumu, lw=2, color='gray', alpha=0.7, label='all')\n",
    "hB,eB,pB = plt.hist(dr8_z[maskB], bins=bins,  weights=np.full(np.sum(maskB), 1/Ared), histtype='step', cumulative=cumu, lw=2, color='blue', label='MAIN')\n",
    "hF,eF,pF = plt.hist(dr8_z[maskF], bins=bins,  weights=np.full(np.sum(maskF), 1/Ared), histtype='step', cumulative=cumu, lw=2, color='orange', label='SECONDARY')\n",
    "\n",
    "#\n",
    "plt.errorbar((eB[1:]+eB[:-1])/2., hB, np.sqrt(hB), fmt='none')\n",
    "plt.errorbar((eF[1:]+eF[:-1])/2., hF, np.sqrt(hF), fmt='none')\n",
    "\n",
    "print('mean: \\t %.4f (all) \\t %.4f (bright) \\t %.4f (faint)' %(\n",
    "    np.mean(dr8_z[mask]), np.mean(dr8_z[maskB]), np.mean(dr8_z[maskF])\n",
    "    ))\n",
    "plt.axvline(np.mean(dr8_z[mask]), ls='--', c='gray')\n",
    "plt.axvline(np.mean(dr8_z[maskB]), ls='--', c='blue')\n",
    "plt.axvline(np.mean(dr8_z[maskF]), ls='--', c='orange')\n",
    "\n",
    "#plt.hist(dr8_z[(maskB) & (bgs)], bins=bins,  weights=np.full(np.sum((maskB) & (bgs)), 1/N), histtype='step', cumulative=cumu, lw=2, ls='--', color='blue')\n",
    "#plt.hist(dr8_z[(maskF) & (bgs)], bins=bins,  weights=np.full(np.sum((maskF) & (bgs)), 1/N), histtype='step', cumulative=cumu, lw=2, ls='--', color='orange')\n",
    "plt.xlabel(r'Z', size=25)\n",
    "plt.ylabel(r'BGS [deg$^{-2}$]/$\\Delta z$', size=25)\n",
    "plt.legend(fontsize=20)\n",
    "plt.xticks(fontsize=20)\n",
    "plt.yticks(fontsize=20)\n",
    "\n",
    "file = pathdir+'bgs_nz'\n",
    "fig.savefig(file+'.png', bbox_inches = 'tight', pad_inches = 0, dpi=300)\n"
   ]
  },
  {
   "cell_type": "code",
   "execution_count": 29,
   "metadata": {},
   "outputs": [
    {
     "data": {
      "text/plain": [
       "0.02"
      ]
     },
     "execution_count": 29,
     "metadata": {},
     "output_type": "execute_result"
    }
   ],
   "source": [
    "0.6/30"
   ]
  },
  {
   "cell_type": "code",
   "execution_count": null,
   "metadata": {},
   "outputs": [],
   "source": []
  }
 ],
 "metadata": {
  "kernelspec": {
   "display_name": "BGS",
   "language": "python",
   "name": "desi_bgs_omar"
  },
  "language_info": {
   "codemirror_mode": {
    "name": "ipython",
    "version": 3
   },
   "file_extension": ".py",
   "mimetype": "text/x-python",
   "name": "python",
   "nbconvert_exporter": "python",
   "pygments_lexer": "ipython3",
   "version": "3.7.3"
  }
 },
 "nbformat": 4,
 "nbformat_minor": 4
}
