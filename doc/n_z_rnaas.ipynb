{
 "cells": [
  {
   "cell_type": "code",
   "execution_count": 1,
   "metadata": {},
   "outputs": [],
   "source": [
    "#\n",
    "import numpy as np\n",
    "import matplotlib.pyplot as plt\n",
    "import fitsio\n",
    "import os\n",
    "import sys\n",
    "\n",
    "sys.path.insert(0, '/global/homes/q/qmxp55/DESI/bgstargets/py')\n",
    "\n",
    "from io_ import get_sweep_whole, match_coord"
   ]
  },
  {
   "cell_type": "markdown",
   "metadata": {},
   "source": [
    "# Load GAMA DR4"
   ]
  },
  {
   "cell_type": "code",
   "execution_count": 2,
   "metadata": {},
   "outputs": [
    {
     "name": "stdout",
     "output_type": "stream",
     "text": [
      "fraction of gama good quality: 186137 / 221373\n",
      "Percentage of Galaxies in GAMA Main Sample (z > 0.002): 98.07 %\n",
      "Percentage of Stars in GAMA Main Sample (z < 0.002): 1.93 %\n"
     ]
    }
   ],
   "source": [
    "gama_ = fitsio.read('/global/cscratch1/sd/qmxp55/TilingCatv46.fits', ext=1)\n",
    "# get only good quality gama objects\n",
    "gama = gama_[(gama_['SURVEY_CLASS'] >= 4) & (gama_['NQ'] >= 3)]\n",
    "print('fraction of gama good quality: %i / %i' %(len(gama), len(gama_)))\n",
    "\n",
    "#get rid of stars in GAMA\n",
    "Ngama = len(gama)\n",
    "print('Percentage of Galaxies in GAMA Main Sample (z > 0.002): %.2f %%' %(100 * np.sum(gama['Z'] > 0.002)/Ngama))\n",
    "print('Percentage of Stars in GAMA Main Sample (z < 0.002): %.2f %%' %(100 * np.sum(gama['Z'] < 0.002)/Ngama))\n",
    "\n",
    "#\n",
    "gama0 = gama #Include stars and galaxies in GAMA\n",
    "gama = gama0[gama0['Z'] > 0.002] #Include only galaxies in GAMA\n"
   ]
  },
  {
   "cell_type": "markdown",
   "metadata": {},
   "source": [
    "# Load DR8 SWEEPS for GAMA footprint only (G12, G15, G09)"
   ]
  },
  {
   "cell_type": "code",
   "execution_count": 3,
   "metadata": {},
   "outputs": [
    {
     "name": "stdout",
     "output_type": "stream",
     "text": [
      "sweep file already exist at:/global/cscratch1/sd/qmxp55/bgstargets_output/dr8-south_sweep_174.0_186.0_-3.0_2.0.npy\n",
      "Total run time: 0.000215 sec\n",
      "sweep file already exist at:/global/cscratch1/sd/qmxp55/bgstargets_output/dr8-south_sweep_211.5_223.5_-2.0_3.0.npy\n",
      "Total run time: 0.001594 sec\n",
      "sweep file already exist at:/global/cscratch1/sd/qmxp55/bgstargets_output/dr8-south_sweep_129.0_141.0_-2.0_3.0.npy\n",
      "Total run time: 0.000315 sec\n"
     ]
    }
   ],
   "source": [
    "#\n",
    "def gama12():\n",
    "    \n",
    "    return [174., 186., -3., 2.]\n",
    "\n",
    "def gama15():\n",
    "    \n",
    "    return [211.5, 223.5, -2., 3.]\n",
    "\n",
    "def gama09():\n",
    "    \n",
    "    return [129., 141., -2., 3.]\n",
    "\n",
    "# load catalogue\n",
    "# this is dr8 sweeps in decals with BGSBITS \n",
    "\n",
    "\n",
    "dr = 'dr8-south'\n",
    "#dir where we are going to stored the results\n",
    "pathdir = '/global/homes/q/qmxp55/DESI/bgs_main/bgs_main_%s_matches/' %(dr)\n",
    "#if results dir does not exist, create it\n",
    "ispathdir = os.path.isdir(pathdir)\n",
    "if not ispathdir: os.mkdir(pathdir)\n",
    "    \n",
    "#get sweeps for GAMA footprint\n",
    "lsin12 =  get_sweep_whole(patch=gama12(), dr=dr, rlimit=None, maskbitsource=False, bgsbits=True, opt='1')\n",
    "lsin15 =  get_sweep_whole(patch=gama15(), dr=dr, rlimit=None, maskbitsource=False, bgsbits=True, opt='1')\n",
    "lsin09 =  get_sweep_whole(patch=gama09(), dr=dr, rlimit=None, maskbitsource=False, bgsbits=True, opt='1')\n",
    "\n",
    "# merge the SWEEPS in GAMA fileds targets in a single data frame\n",
    "cat = np.concatenate((lsin12, lsin15, lsin09))\n"
   ]
  },
  {
   "cell_type": "markdown",
   "metadata": {},
   "source": [
    "# Match catalogues"
   ]
  },
  {
   "cell_type": "code",
   "execution_count": 4,
   "metadata": {},
   "outputs": [],
   "source": [
    "#\n",
    "def match(gama=None, cat=None):\n",
    "    \n",
    "    # matching LS8 with gama stars and galaxies\n",
    "    idx2, idx1, d2d, d_ra, d_dec = match_coord(cat['RA'], cat['DEC'], \n",
    "                                                                gama['RA'], gama['DEC'], search_radius=1)\n",
    "\n",
    "    # LS DR8 matched with gama\n",
    "    dr8_gama = np.zeros_like(cat['RA'], dtype='?') #dr8 that match with gama\n",
    "    dr8_z = np.full_like(cat['RA'], -1) #z from gama\n",
    "\n",
    "    dr8_gama[idx2.tolist()] = True\n",
    "    dr8_z[idx2.tolist()] = gama['Z'][idx1]\n",
    "    \n",
    "    return dr8_gama, dr8_z\n"
   ]
  },
  {
   "cell_type": "code",
   "execution_count": 5,
   "metadata": {},
   "outputs": [
    {
     "name": "stdout",
     "output_type": "stream",
     "text": [
      "Doubly matched objects = 2\n",
      "Final matched objects = 181919\n",
      "fraction of bgs in dr8-south within GAMA: 256973 / 14545644\n"
     ]
    }
   ],
   "source": [
    "#\n",
    "dr8_gama, dr8_z = match(gama, cat)\n",
    "#get BGS targets\n",
    "bgs = ((cat['BGSBITS'] & 2**(20)) != 0) #| (L2) #adding the LSLGA galaxies\n",
    "print('fraction of bgs in %s within GAMA: %i / %i' %(dr, np.sum(bgs), len(cat)))\n"
   ]
  },
  {
   "cell_type": "code",
   "execution_count": 6,
   "metadata": {},
   "outputs": [
    {
     "name": "stdout",
     "output_type": "stream",
     "text": [
      "mean: \t 0.2243 (all) \t 0.2155 (bright) \t 0.2653 (faint)\n"
     ]
    },
    {
     "data": {
      "image/png": "[encoded data removed]",
      "text/plain": [
       "<Figure size 720x432 with 1 Axes>"
      ]
     },
     "metadata": {
      "needs_background": "light"
     },
     "output_type": "display_data"
    }
   ],
   "source": [
    "#\n",
    "fig = plt.figure(figsize=(10,6))\n",
    "\n",
    "N = np.sum((dr8_gama) & (bgs))\n",
    "cumu = False\n",
    "Ared = 175\n",
    "\n",
    "mask = (dr8_gama) & (dr8_z > 0) & (dr8_z < 0.8) & (bgs)\n",
    "maskB = (dr8_gama) & (dr8_z > 0) & (dr8_z < 0.8) & (cat['RMAG'] < 19.5) & (bgs)\n",
    "maskF = (dr8_gama) & (dr8_z > 0) & (dr8_z < 0.8) & (cat['RMAG'] > 19.5) & (cat['RMAG'] < 20.) & (bgs)\n",
    "bins = np.linspace(0,0.6,50)\n",
    "\n",
    "#plt.title(r'BGS cross-matched with GAMA DR3', size=18)\n",
    "plt.hist(dr8_z[mask], bins=bins,  weights=np.full(np.sum(mask), 1/Ared), histtype='step', cumulative=cumu, lw=2, color='gray', alpha=0.7, label='all')\n",
    "plt.hist(dr8_z[maskB], bins=bins,  weights=np.full(np.sum(maskB), 1/Ared), histtype='step', cumulative=cumu, lw=2, color='blue', label='MAIN')\n",
    "plt.hist(dr8_z[maskF], bins=bins,  weights=np.full(np.sum(maskF), 1/Ared), histtype='step', cumulative=cumu, lw=2, color='orange', label='SECONDARY')\n",
    "\n",
    "print('mean: \\t %.4f (all) \\t %.4f (bright) \\t %.4f (faint)' %(\n",
    "    np.mean(dr8_z[mask]), np.mean(dr8_z[maskB]), np.mean(dr8_z[maskF])\n",
    "    ))\n",
    "plt.axvline(np.mean(dr8_z[mask]), ls='--', c='gray')\n",
    "plt.axvline(np.mean(dr8_z[maskB]), ls='--', c='blue')\n",
    "plt.axvline(np.mean(dr8_z[maskF]), ls='--', c='orange')\n",
    "\n",
    "#plt.hist(dr8_z[(maskB) & (bgs)], bins=bins,  weights=np.full(np.sum((maskB) & (bgs)), 1/N), histtype='step', cumulative=cumu, lw=2, ls='--', color='blue')\n",
    "#plt.hist(dr8_z[(maskF) & (bgs)], bins=bins,  weights=np.full(np.sum((maskF) & (bgs)), 1/N), histtype='step', cumulative=cumu, lw=2, ls='--', color='orange')\n",
    "plt.xlabel(r'Z', size=25)\n",
    "plt.ylabel(r'BGS [deg$^{-2}$]/$\\Delta z$', size=25)\n",
    "plt.legend(fontsize=20)\n",
    "plt.xticks(fontsize=20)\n",
    "plt.yticks(fontsize=20)\n",
    "\n",
    "file = pathdir+'bgs_nz'\n",
    "fig.savefig(file+'.png', bbox_inches = 'tight', pad_inches = 0, dpi=300)\n"
   ]
  },
  {
   "cell_type": "code",
   "execution_count": null,
   "metadata": {},
   "outputs": [],
   "source": []
  }
 ],
 "metadata": {
  "kernelspec": {
   "display_name": "BGS",
   "language": "python",
   "name": "desi_bgs_omar"
  },
  "language_info": {
   "codemirror_mode": {
    "name": "ipython",
    "version": 3
   },
   "file_extension": ".py",
   "mimetype": "text/x-python",
   "name": "python",
   "nbconvert_exporter": "python",
   "pygments_lexer": "ipython3",
   "version": "3.7.3"
  }
 },
 "nbformat": 4,
 "nbformat_minor": 4
}
